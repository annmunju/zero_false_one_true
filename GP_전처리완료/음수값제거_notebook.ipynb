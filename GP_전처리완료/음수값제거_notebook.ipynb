{
 "cells": [
  {
   "cell_type": "code",
   "execution_count": 23,
   "metadata": {},
   "outputs": [],
   "source": [
    "import pandas as pd\n",
    "\n",
    "df = pd.read_csv('GP_통합(3years)_자격증제외.csv')"
   ]
  },
  {
   "cell_type": "code",
   "execution_count": 25,
   "metadata": {},
   "outputs": [
    {
     "data": {
      "text/plain": [
       "['목표 직업', '목표 직업 유형', '희망연봉', '일자리 지원 횟수', '시간총합']"
      ]
     },
     "execution_count": 25,
     "metadata": {},
     "output_type": "execute_result"
    }
   ],
   "source": [
    "# -1 값이 포함된 컬럼 조회\n",
    "cols = []\n",
    "for col in df.columns:\n",
    "    if -1 in (df[col].value_counts().index):\n",
    "        cols.append(col)\n",
    "\n",
    "cols"
   ]
  },
  {
   "cell_type": "code",
   "execution_count": 26,
   "metadata": {},
   "outputs": [],
   "source": [
    "def minus_to_zero(x):\n",
    "    if x == -1:\n",
    "        return 0\n",
    "    else:\n",
    "        return x"
   ]
  },
  {
   "cell_type": "code",
   "execution_count": 27,
   "metadata": {},
   "outputs": [],
   "source": [
    "for col in cols:\n",
    "    df[col] = df[col].apply(minus_to_zero)"
   ]
  },
  {
   "cell_type": "code",
   "execution_count": 29,
   "metadata": {},
   "outputs": [
    {
     "data": {
      "text/plain": [
       "[]"
      ]
     },
     "execution_count": 29,
     "metadata": {},
     "output_type": "execute_result"
    }
   ],
   "source": [
    "# -1 값이 포함된 컬럼 다시 조회\n",
    "cols = []\n",
    "for col in df.columns:\n",
    "    if -1 in (df[col].value_counts().index):\n",
    "        cols.append(col)\n",
    "\n",
    "cols"
   ]
  },
  {
   "cell_type": "code",
   "execution_count": 30,
   "metadata": {},
   "outputs": [],
   "source": [
    "df.to_csv('GP_통합(3years)_음수값제거.csv', encoding = 'utf-8-sig' , index=False)"
   ]
  }
 ],
 "metadata": {
  "interpreter": {
   "hash": "08b123dd7174979f42e8d8d99436980ff337f7b8b34ef63d166a44720f231f79"
  },
  "kernelspec": {
   "display_name": "Python 3.9.9 ('mulcam_ds')",
   "language": "python",
   "name": "python3"
  },
  "language_info": {
   "codemirror_mode": {
    "name": "ipython",
    "version": 3
   },
   "file_extension": ".py",
   "mimetype": "text/x-python",
   "name": "python",
   "nbconvert_exporter": "python",
   "pygments_lexer": "ipython3",
   "version": "3.9.9"
  },
  "orig_nbformat": 4
 },
 "nbformat": 4,
 "nbformat_minor": 2
}
