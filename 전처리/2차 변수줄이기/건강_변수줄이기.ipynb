{
 "cells": [
  {
   "cell_type": "code",
   "execution_count": 1,
   "metadata": {},
   "outputs": [],
   "source": [
    "import pandas as pd\n",
    "import numpy as np\n",
    "from matplotlib import rc\n",
    "from matplotlib import pyplot as plt\n",
    "import seaborn as sns\n",
    "# pd.set_option('display.max_columns', None)\n",
    "# pd.set_option('display.max_rows', None)\n",
    "\n",
    "rc('font', family='AppleGothic')\n",
    "\n",
    "plt.rcParams['axes.unicode_minus'] = False\n",
    "\n",
    "\n",
    "df2016 = pd.read_csv('GP_2016_AQ.csv',index_col=0)\n",
    "health_16 = pd.read_csv('16health.csv')\n",
    "df2016.insert(28, '건강한정도', health_16['건강한정도'])\n",
    "\n",
    "df2017 = pd.read_csv('GP_2017_AQ.csv',index_col=0)\n",
    "health_17 = pd.read_csv('17health.csv')\n",
    "df2017.insert(28, '건강한정도', health_17['건강한정도'])\n",
    "\n",
    "df2018 = pd.read_csv('GP_2018_AQ.csv',index_col=0)\n",
    "health_18 = pd.read_csv('18health.csv')\n",
    "df2018.insert(28, '건강한정도', health_18['건강한정도'])\n",
    "\n",
    "df = pd.concat([df2016, df2017, df2018])"
   ]
  },
  {
   "cell_type": "markdown",
   "metadata": {},
   "source": [
    "---\n",
    "\n",
    "# 건강 변수 하나로 (군집화 or 차원축소)"
   ]
  },
  {
   "cell_type": "code",
   "execution_count": 2,
   "metadata": {},
   "outputs": [],
   "source": [
    "health_cols = df.columns[-6:-1]\n",
    "# Index(['건강한정도', '운동시간(주)', '수면시간(일)', '흡연여부', '음주빈도'], dtype='object')"
   ]
  },
  {
   "cell_type": "code",
   "execution_count": 3,
   "metadata": {},
   "outputs": [],
   "source": [
    "health_df = df[health_cols]"
   ]
  },
  {
   "cell_type": "code",
   "execution_count": 4,
   "metadata": {},
   "outputs": [
    {
     "name": "stdout",
     "output_type": "stream",
     "text": [
      "4    25127\n",
      "3    12666\n",
      "5    11421\n",
      "2     4526\n",
      "1      703\n",
      "Name: 건강한정도, dtype: int64\n",
      "0      12097\n",
      "1      10381\n",
      "2       7292\n",
      "3       6827\n",
      "5       5053\n",
      "4       3623\n",
      "7       2458\n",
      "6       2172\n",
      "10      1892\n",
      "8       1072\n",
      "14       405\n",
      "12       379\n",
      "15       221\n",
      "9        160\n",
      "20       134\n",
      "30        56\n",
      "21        39\n",
      "18        34\n",
      "16        31\n",
      "11        22\n",
      "40        22\n",
      "13        16\n",
      "25        10\n",
      "28         8\n",
      "24         7\n",
      "35         6\n",
      "50         3\n",
      "60         3\n",
      "27         3\n",
      "42         2\n",
      "48         2\n",
      "22         2\n",
      "17         2\n",
      "23         1\n",
      "67         1\n",
      "36         1\n",
      "100        1\n",
      "46         1\n",
      "26         1\n",
      "70         1\n",
      "75         1\n",
      "90         1\n",
      "Name: 운동시간(주), dtype: int64\n",
      "7     19267\n",
      "6     17289\n",
      "8      9623\n",
      "5      5429\n",
      "4      1141\n",
      "9      1063\n",
      "10      383\n",
      "3       129\n",
      "12       39\n",
      "1        32\n",
      "2        21\n",
      "11       17\n",
      "14        4\n",
      "15        2\n",
      "13        1\n",
      "20        1\n",
      "16        1\n",
      "0         1\n",
      "Name: 수면시간(일), dtype: int64\n",
      "2    44175\n",
      "1    10268\n",
      "Name: 흡연여부, dtype: int64\n",
      "3    21316\n",
      "4    16241\n",
      "1     8607\n",
      "2     5366\n",
      "5     2465\n",
      "6      448\n",
      "Name: 음주빈도, dtype: int64\n"
     ]
    }
   ],
   "source": [
    "for col in health_cols:\n",
    "    print(df[col].value_counts())"
   ]
  },
  {
   "cell_type": "code",
   "execution_count": 5,
   "metadata": {},
   "outputs": [
    {
     "data": {
      "text/html": [
       "<div>\n",
       "<style scoped>\n",
       "    .dataframe tbody tr th:only-of-type {\n",
       "        vertical-align: middle;\n",
       "    }\n",
       "\n",
       "    .dataframe tbody tr th {\n",
       "        vertical-align: top;\n",
       "    }\n",
       "\n",
       "    .dataframe thead th {\n",
       "        text-align: right;\n",
       "    }\n",
       "</style>\n",
       "<table border=\"1\" class=\"dataframe\">\n",
       "  <thead>\n",
       "    <tr style=\"text-align: right;\">\n",
       "      <th></th>\n",
       "      <th>건강한정도</th>\n",
       "      <th>운동시간(주)</th>\n",
       "      <th>수면시간(일)</th>\n",
       "      <th>흡연여부</th>\n",
       "      <th>음주빈도</th>\n",
       "    </tr>\n",
       "  </thead>\n",
       "  <tbody>\n",
       "    <tr>\n",
       "      <th>count</th>\n",
       "      <td>54443.000000</td>\n",
       "      <td>54443.000000</td>\n",
       "      <td>54443.000000</td>\n",
       "      <td>54443.000000</td>\n",
       "      <td>54443.000000</td>\n",
       "    </tr>\n",
       "    <tr>\n",
       "      <th>mean</th>\n",
       "      <td>3.772129</td>\n",
       "      <td>3.078100</td>\n",
       "      <td>6.648127</td>\n",
       "      <td>1.811399</td>\n",
       "      <td>2.998806</td>\n",
       "    </tr>\n",
       "    <tr>\n",
       "      <th>std</th>\n",
       "      <td>0.916112</td>\n",
       "      <td>3.573086</td>\n",
       "      <td>1.096884</td>\n",
       "      <td>0.391195</td>\n",
       "      <td>1.133327</td>\n",
       "    </tr>\n",
       "    <tr>\n",
       "      <th>min</th>\n",
       "      <td>1.000000</td>\n",
       "      <td>0.000000</td>\n",
       "      <td>0.000000</td>\n",
       "      <td>1.000000</td>\n",
       "      <td>1.000000</td>\n",
       "    </tr>\n",
       "    <tr>\n",
       "      <th>25%</th>\n",
       "      <td>3.000000</td>\n",
       "      <td>1.000000</td>\n",
       "      <td>6.000000</td>\n",
       "      <td>2.000000</td>\n",
       "      <td>2.000000</td>\n",
       "    </tr>\n",
       "    <tr>\n",
       "      <th>50%</th>\n",
       "      <td>4.000000</td>\n",
       "      <td>2.000000</td>\n",
       "      <td>7.000000</td>\n",
       "      <td>2.000000</td>\n",
       "      <td>3.000000</td>\n",
       "    </tr>\n",
       "    <tr>\n",
       "      <th>75%</th>\n",
       "      <td>4.000000</td>\n",
       "      <td>5.000000</td>\n",
       "      <td>7.000000</td>\n",
       "      <td>2.000000</td>\n",
       "      <td>4.000000</td>\n",
       "    </tr>\n",
       "    <tr>\n",
       "      <th>max</th>\n",
       "      <td>5.000000</td>\n",
       "      <td>100.000000</td>\n",
       "      <td>20.000000</td>\n",
       "      <td>2.000000</td>\n",
       "      <td>6.000000</td>\n",
       "    </tr>\n",
       "  </tbody>\n",
       "</table>\n",
       "</div>"
      ],
      "text/plain": [
       "              건강한정도       운동시간(주)       수면시간(일)          흡연여부          음주빈도\n",
       "count  54443.000000  54443.000000  54443.000000  54443.000000  54443.000000\n",
       "mean       3.772129      3.078100      6.648127      1.811399      2.998806\n",
       "std        0.916112      3.573086      1.096884      0.391195      1.133327\n",
       "min        1.000000      0.000000      0.000000      1.000000      1.000000\n",
       "25%        3.000000      1.000000      6.000000      2.000000      2.000000\n",
       "50%        4.000000      2.000000      7.000000      2.000000      3.000000\n",
       "75%        4.000000      5.000000      7.000000      2.000000      4.000000\n",
       "max        5.000000    100.000000     20.000000      2.000000      6.000000"
      ]
     },
     "execution_count": 5,
     "metadata": {},
     "output_type": "execute_result"
    }
   ],
   "source": [
    "health_df.describe()"
   ]
  },
  {
   "cell_type": "code",
   "execution_count": 6,
   "metadata": {},
   "outputs": [],
   "source": [
    "# plt.hist(health_df['운동시간(주)'])\n",
    "# plt.hist(health_df['수면시간(일)'])\n",
    "# plt.hist(health_df['음주빈도'])"
   ]
  },
  {
   "cell_type": "markdown",
   "metadata": {},
   "source": [
    "1.  Scaling"
   ]
  },
  {
   "cell_type": "code",
   "execution_count": 7,
   "metadata": {},
   "outputs": [],
   "source": [
    "from sklearn.preprocessing import StandardScaler\n",
    "\n",
    "scaled_health_df = pd.DataFrame()"
   ]
  },
  {
   "cell_type": "code",
   "execution_count": 8,
   "metadata": {},
   "outputs": [],
   "source": [
    "scaled_health_df['건강한정도'] = list(health_df['건강한정도'])"
   ]
  },
  {
   "cell_type": "code",
   "execution_count": 9,
   "metadata": {},
   "outputs": [],
   "source": [
    "scaler = StandardScaler()\n",
    "\n",
    "scaled = scaler.fit_transform(health_df[['운동시간(주)']])"
   ]
  },
  {
   "cell_type": "code",
   "execution_count": 10,
   "metadata": {},
   "outputs": [],
   "source": [
    "scaled_health_df['운동시간'] = np.ravel(scaled)"
   ]
  },
  {
   "cell_type": "code",
   "execution_count": 11,
   "metadata": {},
   "outputs": [],
   "source": [
    "scaler = StandardScaler()\n",
    "scaled = scaler.fit_transform(health_df[['수면시간(일)']])\n",
    "scaled_health_df['수면시간'] = np.ravel(scaled)"
   ]
  },
  {
   "cell_type": "code",
   "execution_count": 12,
   "metadata": {},
   "outputs": [],
   "source": [
    "# scaler = StandardScaler()\n",
    "# scaled = scaler.fit_transform(health_df[['흡연여부']])\n",
    "# scaled_health_df['흡연여부'] = np.ravel(scaled)"
   ]
  },
  {
   "cell_type": "code",
   "execution_count": 13,
   "metadata": {},
   "outputs": [],
   "source": [
    "scaled_health_df['흡연여부'] = list(health_df['흡연여부'])"
   ]
  },
  {
   "cell_type": "code",
   "execution_count": 14,
   "metadata": {},
   "outputs": [],
   "source": [
    "scaler = StandardScaler()\n",
    "scaled = scaler.fit_transform(health_df[['음주빈도']])\n",
    "scaled_health_df['음주빈도'] = np.ravel(scaled)"
   ]
  },
  {
   "cell_type": "code",
   "execution_count": 15,
   "metadata": {},
   "outputs": [
    {
     "data": {
      "text/html": [
       "<div>\n",
       "<style scoped>\n",
       "    .dataframe tbody tr th:only-of-type {\n",
       "        vertical-align: middle;\n",
       "    }\n",
       "\n",
       "    .dataframe tbody tr th {\n",
       "        vertical-align: top;\n",
       "    }\n",
       "\n",
       "    .dataframe thead th {\n",
       "        text-align: right;\n",
       "    }\n",
       "</style>\n",
       "<table border=\"1\" class=\"dataframe\">\n",
       "  <thead>\n",
       "    <tr style=\"text-align: right;\">\n",
       "      <th></th>\n",
       "      <th>건강한정도</th>\n",
       "      <th>운동시간</th>\n",
       "      <th>수면시간</th>\n",
       "      <th>흡연여부</th>\n",
       "      <th>음주빈도</th>\n",
       "    </tr>\n",
       "  </thead>\n",
       "  <tbody>\n",
       "    <tr>\n",
       "      <th>0</th>\n",
       "      <td>3</td>\n",
       "      <td>-0.581603</td>\n",
       "      <td>0.320796</td>\n",
       "      <td>2</td>\n",
       "      <td>-1.763679</td>\n",
       "    </tr>\n",
       "    <tr>\n",
       "      <th>1</th>\n",
       "      <td>3</td>\n",
       "      <td>-0.581603</td>\n",
       "      <td>-0.590886</td>\n",
       "      <td>2</td>\n",
       "      <td>-1.763679</td>\n",
       "    </tr>\n",
       "    <tr>\n",
       "      <th>2</th>\n",
       "      <td>3</td>\n",
       "      <td>-0.861476</td>\n",
       "      <td>0.320796</td>\n",
       "      <td>2</td>\n",
       "      <td>0.001053</td>\n",
       "    </tr>\n",
       "    <tr>\n",
       "      <th>3</th>\n",
       "      <td>4</td>\n",
       "      <td>-0.581603</td>\n",
       "      <td>1.232477</td>\n",
       "      <td>2</td>\n",
       "      <td>0.001053</td>\n",
       "    </tr>\n",
       "    <tr>\n",
       "      <th>4</th>\n",
       "      <td>4</td>\n",
       "      <td>0.258015</td>\n",
       "      <td>0.320796</td>\n",
       "      <td>2</td>\n",
       "      <td>0.001053</td>\n",
       "    </tr>\n",
       "    <tr>\n",
       "      <th>...</th>\n",
       "      <td>...</td>\n",
       "      <td>...</td>\n",
       "      <td>...</td>\n",
       "      <td>...</td>\n",
       "      <td>...</td>\n",
       "    </tr>\n",
       "    <tr>\n",
       "      <th>54438</th>\n",
       "      <td>4</td>\n",
       "      <td>0.817760</td>\n",
       "      <td>0.320796</td>\n",
       "      <td>1</td>\n",
       "      <td>0.001053</td>\n",
       "    </tr>\n",
       "    <tr>\n",
       "      <th>54439</th>\n",
       "      <td>3</td>\n",
       "      <td>-0.861476</td>\n",
       "      <td>1.232477</td>\n",
       "      <td>2</td>\n",
       "      <td>0.883420</td>\n",
       "    </tr>\n",
       "    <tr>\n",
       "      <th>54440</th>\n",
       "      <td>5</td>\n",
       "      <td>-0.301731</td>\n",
       "      <td>1.232477</td>\n",
       "      <td>1</td>\n",
       "      <td>1.765786</td>\n",
       "    </tr>\n",
       "    <tr>\n",
       "      <th>54441</th>\n",
       "      <td>3</td>\n",
       "      <td>-0.581603</td>\n",
       "      <td>-2.414249</td>\n",
       "      <td>1</td>\n",
       "      <td>-1.763679</td>\n",
       "    </tr>\n",
       "    <tr>\n",
       "      <th>54442</th>\n",
       "      <td>5</td>\n",
       "      <td>-0.301731</td>\n",
       "      <td>0.320796</td>\n",
       "      <td>2</td>\n",
       "      <td>0.001053</td>\n",
       "    </tr>\n",
       "  </tbody>\n",
       "</table>\n",
       "<p>54443 rows × 5 columns</p>\n",
       "</div>"
      ],
      "text/plain": [
       "       건강한정도      운동시간      수면시간  흡연여부      음주빈도\n",
       "0          3 -0.581603  0.320796     2 -1.763679\n",
       "1          3 -0.581603 -0.590886     2 -1.763679\n",
       "2          3 -0.861476  0.320796     2  0.001053\n",
       "3          4 -0.581603  1.232477     2  0.001053\n",
       "4          4  0.258015  0.320796     2  0.001053\n",
       "...      ...       ...       ...   ...       ...\n",
       "54438      4  0.817760  0.320796     1  0.001053\n",
       "54439      3 -0.861476  1.232477     2  0.883420\n",
       "54440      5 -0.301731  1.232477     1  1.765786\n",
       "54441      3 -0.581603 -2.414249     1 -1.763679\n",
       "54442      5 -0.301731  0.320796     2  0.001053\n",
       "\n",
       "[54443 rows x 5 columns]"
      ]
     },
     "execution_count": 15,
     "metadata": {},
     "output_type": "execute_result"
    }
   ],
   "source": [
    "scaled_health_df"
   ]
  },
  {
   "cell_type": "markdown",
   "metadata": {},
   "source": [
    "2. PCA (시도)"
   ]
  },
  {
   "cell_type": "code",
   "execution_count": 16,
   "metadata": {},
   "outputs": [
    {
     "data": {
      "text/html": [
       "<div>\n",
       "<style scoped>\n",
       "    .dataframe tbody tr th:only-of-type {\n",
       "        vertical-align: middle;\n",
       "    }\n",
       "\n",
       "    .dataframe tbody tr th {\n",
       "        vertical-align: top;\n",
       "    }\n",
       "\n",
       "    .dataframe thead th {\n",
       "        text-align: right;\n",
       "    }\n",
       "</style>\n",
       "<table border=\"1\" class=\"dataframe\">\n",
       "  <thead>\n",
       "    <tr style=\"text-align: right;\">\n",
       "      <th></th>\n",
       "      <th>건강한정도</th>\n",
       "      <th>운동시간</th>\n",
       "      <th>수면시간</th>\n",
       "      <th>흡연여부</th>\n",
       "      <th>음주빈도</th>\n",
       "      <th>pca_x</th>\n",
       "      <th>pca_y</th>\n",
       "    </tr>\n",
       "  </thead>\n",
       "  <tbody>\n",
       "    <tr>\n",
       "      <th>0</th>\n",
       "      <td>3</td>\n",
       "      <td>-0.581603</td>\n",
       "      <td>0.320796</td>\n",
       "      <td>2</td>\n",
       "      <td>-1.763679</td>\n",
       "      <td>-1.332975</td>\n",
       "      <td>1.333648</td>\n",
       "    </tr>\n",
       "    <tr>\n",
       "      <th>1</th>\n",
       "      <td>3</td>\n",
       "      <td>-0.581603</td>\n",
       "      <td>-0.590886</td>\n",
       "      <td>2</td>\n",
       "      <td>-1.763679</td>\n",
       "      <td>-1.633557</td>\n",
       "      <td>0.643083</td>\n",
       "    </tr>\n",
       "    <tr>\n",
       "      <th>2</th>\n",
       "      <td>3</td>\n",
       "      <td>-0.861476</td>\n",
       "      <td>0.320796</td>\n",
       "      <td>2</td>\n",
       "      <td>0.001053</td>\n",
       "      <td>-0.910179</td>\n",
       "      <td>0.275073</td>\n",
       "    </tr>\n",
       "    <tr>\n",
       "      <th>3</th>\n",
       "      <td>4</td>\n",
       "      <td>-0.581603</td>\n",
       "      <td>1.232477</td>\n",
       "      <td>2</td>\n",
       "      <td>0.001053</td>\n",
       "      <td>0.111268</td>\n",
       "      <td>1.054811</td>\n",
       "    </tr>\n",
       "    <tr>\n",
       "      <th>4</th>\n",
       "      <td>4</td>\n",
       "      <td>0.258015</td>\n",
       "      <td>0.320796</td>\n",
       "      <td>2</td>\n",
       "      <td>0.001053</td>\n",
       "      <td>0.399333</td>\n",
       "      <td>0.249439</td>\n",
       "    </tr>\n",
       "    <tr>\n",
       "      <th>...</th>\n",
       "      <td>...</td>\n",
       "      <td>...</td>\n",
       "      <td>...</td>\n",
       "      <td>...</td>\n",
       "      <td>...</td>\n",
       "      <td>...</td>\n",
       "      <td>...</td>\n",
       "    </tr>\n",
       "    <tr>\n",
       "      <th>54438</th>\n",
       "      <td>4</td>\n",
       "      <td>0.817760</td>\n",
       "      <td>0.320796</td>\n",
       "      <td>1</td>\n",
       "      <td>0.001053</td>\n",
       "      <td>0.830188</td>\n",
       "      <td>0.102155</td>\n",
       "    </tr>\n",
       "    <tr>\n",
       "      <th>54439</th>\n",
       "      <td>3</td>\n",
       "      <td>-0.861476</td>\n",
       "      <td>1.232477</td>\n",
       "      <td>2</td>\n",
       "      <td>0.883420</td>\n",
       "      <td>-0.300091</td>\n",
       "      <td>0.417217</td>\n",
       "    </tr>\n",
       "    <tr>\n",
       "      <th>54440</th>\n",
       "      <td>5</td>\n",
       "      <td>-0.301731</td>\n",
       "      <td>1.232477</td>\n",
       "      <td>1</td>\n",
       "      <td>1.765786</td>\n",
       "      <td>1.489568</td>\n",
       "      <td>-0.023605</td>\n",
       "    </tr>\n",
       "    <tr>\n",
       "      <th>54441</th>\n",
       "      <td>3</td>\n",
       "      <td>-0.581603</td>\n",
       "      <td>-2.414249</td>\n",
       "      <td>1</td>\n",
       "      <td>-1.763679</td>\n",
       "      <td>-2.196297</td>\n",
       "      <td>-0.808793</td>\n",
       "    </tr>\n",
       "    <tr>\n",
       "      <th>54442</th>\n",
       "      <td>5</td>\n",
       "      <td>-0.301731</td>\n",
       "      <td>0.320796</td>\n",
       "      <td>2</td>\n",
       "      <td>0.001053</td>\n",
       "      <td>0.531550</td>\n",
       "      <td>0.453419</td>\n",
       "    </tr>\n",
       "  </tbody>\n",
       "</table>\n",
       "<p>54443 rows × 7 columns</p>\n",
       "</div>"
      ],
      "text/plain": [
       "       건강한정도      운동시간      수면시간  흡연여부      음주빈도     pca_x     pca_y\n",
       "0          3 -0.581603  0.320796     2 -1.763679 -1.332975  1.333648\n",
       "1          3 -0.581603 -0.590886     2 -1.763679 -1.633557  0.643083\n",
       "2          3 -0.861476  0.320796     2  0.001053 -0.910179  0.275073\n",
       "3          4 -0.581603  1.232477     2  0.001053  0.111268  1.054811\n",
       "4          4  0.258015  0.320796     2  0.001053  0.399333  0.249439\n",
       "...      ...       ...       ...   ...       ...       ...       ...\n",
       "54438      4  0.817760  0.320796     1  0.001053  0.830188  0.102155\n",
       "54439      3 -0.861476  1.232477     2  0.883420 -0.300091  0.417217\n",
       "54440      5 -0.301731  1.232477     1  1.765786  1.489568 -0.023605\n",
       "54441      3 -0.581603 -2.414249     1 -1.763679 -2.196297 -0.808793\n",
       "54442      5 -0.301731  0.320796     2  0.001053  0.531550  0.453419\n",
       "\n",
       "[54443 rows x 7 columns]"
      ]
     },
     "execution_count": 16,
     "metadata": {},
     "output_type": "execute_result"
    }
   ],
   "source": [
    "from sklearn.decomposition import PCA\n",
    "\n",
    "pca = PCA(n_components=2)\n",
    "pca_trans = pca.fit_transform(scaled_health_df)\n",
    "\n",
    "scaled_health_df['pca_x'] = pca_trans[:, 0]\n",
    "scaled_health_df['pca_y'] = pca_trans[:, 1]\n",
    "\n",
    "scaled_health_df"
   ]
  },
  {
   "cell_type": "code",
   "execution_count": 17,
   "metadata": {},
   "outputs": [
    {
     "data": {
      "text/plain": [
       "<matplotlib.collections.PathCollection at 0x1558a9cd0>"
      ]
     },
     "execution_count": 17,
     "metadata": {},
     "output_type": "execute_result"
    },
    {
     "data": {
      "image/png": "[encoded data removed]",
      "text/plain": [
       "<Figure size 432x288 with 1 Axes>"
      ]
     },
     "metadata": {
      "needs_background": "light"
     },
     "output_type": "display_data"
    }
   ],
   "source": [
    "plt.scatter(scaled_health_df['pca_x'], scaled_health_df['pca_y'])"
   ]
  },
  {
   "cell_type": "markdown",
   "metadata": {},
   "source": [
    "> 군집화 안될듯..?"
   ]
  },
  {
   "cell_type": "code",
   "execution_count": 18,
   "metadata": {},
   "outputs": [
    {
     "data": {
      "text/html": [
       "<div>\n",
       "<style scoped>\n",
       "    .dataframe tbody tr th:only-of-type {\n",
       "        vertical-align: middle;\n",
       "    }\n",
       "\n",
       "    .dataframe tbody tr th {\n",
       "        vertical-align: top;\n",
       "    }\n",
       "\n",
       "    .dataframe thead th {\n",
       "        text-align: right;\n",
       "    }\n",
       "</style>\n",
       "<table border=\"1\" class=\"dataframe\">\n",
       "  <thead>\n",
       "    <tr style=\"text-align: right;\">\n",
       "      <th></th>\n",
       "      <th>건강한정도</th>\n",
       "      <th>운동시간</th>\n",
       "      <th>수면시간</th>\n",
       "      <th>흡연여부</th>\n",
       "      <th>음주빈도</th>\n",
       "    </tr>\n",
       "  </thead>\n",
       "  <tbody>\n",
       "    <tr>\n",
       "      <th>0</th>\n",
       "      <td>3</td>\n",
       "      <td>-0.581603</td>\n",
       "      <td>0.320796</td>\n",
       "      <td>2</td>\n",
       "      <td>-1.763679</td>\n",
       "    </tr>\n",
       "    <tr>\n",
       "      <th>1</th>\n",
       "      <td>3</td>\n",
       "      <td>-0.581603</td>\n",
       "      <td>-0.590886</td>\n",
       "      <td>2</td>\n",
       "      <td>-1.763679</td>\n",
       "    </tr>\n",
       "    <tr>\n",
       "      <th>2</th>\n",
       "      <td>3</td>\n",
       "      <td>-0.861476</td>\n",
       "      <td>0.320796</td>\n",
       "      <td>2</td>\n",
       "      <td>0.001053</td>\n",
       "    </tr>\n",
       "    <tr>\n",
       "      <th>3</th>\n",
       "      <td>4</td>\n",
       "      <td>-0.581603</td>\n",
       "      <td>1.232477</td>\n",
       "      <td>2</td>\n",
       "      <td>0.001053</td>\n",
       "    </tr>\n",
       "    <tr>\n",
       "      <th>4</th>\n",
       "      <td>4</td>\n",
       "      <td>0.258015</td>\n",
       "      <td>0.320796</td>\n",
       "      <td>2</td>\n",
       "      <td>0.001053</td>\n",
       "    </tr>\n",
       "    <tr>\n",
       "      <th>...</th>\n",
       "      <td>...</td>\n",
       "      <td>...</td>\n",
       "      <td>...</td>\n",
       "      <td>...</td>\n",
       "      <td>...</td>\n",
       "    </tr>\n",
       "    <tr>\n",
       "      <th>54438</th>\n",
       "      <td>4</td>\n",
       "      <td>0.817760</td>\n",
       "      <td>0.320796</td>\n",
       "      <td>1</td>\n",
       "      <td>0.001053</td>\n",
       "    </tr>\n",
       "    <tr>\n",
       "      <th>54439</th>\n",
       "      <td>3</td>\n",
       "      <td>-0.861476</td>\n",
       "      <td>1.232477</td>\n",
       "      <td>2</td>\n",
       "      <td>0.883420</td>\n",
       "    </tr>\n",
       "    <tr>\n",
       "      <th>54440</th>\n",
       "      <td>5</td>\n",
       "      <td>-0.301731</td>\n",
       "      <td>1.232477</td>\n",
       "      <td>1</td>\n",
       "      <td>1.765786</td>\n",
       "    </tr>\n",
       "    <tr>\n",
       "      <th>54441</th>\n",
       "      <td>3</td>\n",
       "      <td>-0.581603</td>\n",
       "      <td>-2.414249</td>\n",
       "      <td>1</td>\n",
       "      <td>-1.763679</td>\n",
       "    </tr>\n",
       "    <tr>\n",
       "      <th>54442</th>\n",
       "      <td>5</td>\n",
       "      <td>-0.301731</td>\n",
       "      <td>0.320796</td>\n",
       "      <td>2</td>\n",
       "      <td>0.001053</td>\n",
       "    </tr>\n",
       "  </tbody>\n",
       "</table>\n",
       "<p>54443 rows × 5 columns</p>\n",
       "</div>"
      ],
      "text/plain": [
       "       건강한정도      운동시간      수면시간  흡연여부      음주빈도\n",
       "0          3 -0.581603  0.320796     2 -1.763679\n",
       "1          3 -0.581603 -0.590886     2 -1.763679\n",
       "2          3 -0.861476  0.320796     2  0.001053\n",
       "3          4 -0.581603  1.232477     2  0.001053\n",
       "4          4  0.258015  0.320796     2  0.001053\n",
       "...      ...       ...       ...   ...       ...\n",
       "54438      4  0.817760  0.320796     1  0.001053\n",
       "54439      3 -0.861476  1.232477     2  0.883420\n",
       "54440      5 -0.301731  1.232477     1  1.765786\n",
       "54441      3 -0.581603 -2.414249     1 -1.763679\n",
       "54442      5 -0.301731  0.320796     2  0.001053\n",
       "\n",
       "[54443 rows x 5 columns]"
      ]
     },
     "execution_count": 18,
     "metadata": {},
     "output_type": "execute_result"
    }
   ],
   "source": [
    "scaled_health_df = scaled_health_df.iloc[:,:-2]\n",
    "scaled_health_df"
   ]
  },
  {
   "cell_type": "code",
   "execution_count": 19,
   "metadata": {},
   "outputs": [
    {
     "data": {
      "text/plain": [
       "<matplotlib.collections.PathCollection at 0x15589ed00>"
      ]
     },
     "execution_count": 19,
     "metadata": {},
     "output_type": "execute_result"
    },
    {
     "data": {
      "image/png": "[encoded data removed]",
      "text/plain": [
       "<Figure size 432x288 with 1 Axes>"
      ]
     },
     "metadata": {
      "needs_background": "light"
     },
     "output_type": "display_data"
    }
   ],
   "source": [
    "plt.scatter(scaled_health_df['운동시간'], scaled_health_df['수면시간'])"
   ]
  },
  {
   "cell_type": "code",
   "execution_count": 20,
   "metadata": {},
   "outputs": [
    {
     "data": {
      "text/plain": [
       "<matplotlib.collections.PathCollection at 0x1558e09a0>"
      ]
     },
     "execution_count": 20,
     "metadata": {},
     "output_type": "execute_result"
    },
    {
     "data": {
      "image/png": "[encoded data removed]",
      "text/plain": [
       "<Figure size 432x288 with 1 Axes>"
      ]
     },
     "metadata": {
      "needs_background": "light"
     },
     "output_type": "display_data"
    }
   ],
   "source": [
    "plt.scatter(scaled_health_df['운동시간'], scaled_health_df['흡연여부'])"
   ]
  },
  {
   "cell_type": "code",
   "execution_count": 21,
   "metadata": {},
   "outputs": [
    {
     "data": {
      "text/plain": [
       "<matplotlib.collections.PathCollection at 0x1559f70d0>"
      ]
     },
     "execution_count": 21,
     "metadata": {},
     "output_type": "execute_result"
    },
    {
     "data": {
      "image/png": "[encoded data removed]",
      "text/plain": [
       "<Figure size 432x288 with 1 Axes>"
      ]
     },
     "metadata": {
      "needs_background": "light"
     },
     "output_type": "display_data"
    }
   ],
   "source": [
    "plt.scatter(scaled_health_df['운동시간'], scaled_health_df['음주빈도'])"
   ]
  },
  {
   "cell_type": "markdown",
   "metadata": {},
   "source": [
    "3. 군집화 : kmeans"
   ]
  },
  {
   "cell_type": "code",
   "execution_count": 22,
   "metadata": {},
   "outputs": [],
   "source": [
    "from sklearn.cluster import KMeans\n",
    "from sklearn.metrics import silhouette_samples, silhouette_score"
   ]
  },
  {
   "cell_type": "code",
   "execution_count": 23,
   "metadata": {},
   "outputs": [
    {
     "data": {
      "text/plain": [
       "KMeans(n_clusters=3)"
      ]
     },
     "execution_count": 23,
     "metadata": {},
     "output_type": "execute_result"
    }
   ],
   "source": [
    "kmeans = KMeans(n_clusters=3, init='k-means++', max_iter=300)\n",
    "kmeans.fit(scaled_health_df)"
   ]
  },
  {
   "cell_type": "code",
   "execution_count": 24,
   "metadata": {},
   "outputs": [],
   "source": [
    "scaled_health_df['건강_군집'] = kmeans.labels_"
   ]
  },
  {
   "cell_type": "code",
   "execution_count": 25,
   "metadata": {},
   "outputs": [],
   "source": [
    "pd.options.display.float_format = '{:.4f}'.format"
   ]
  },
  {
   "cell_type": "code",
   "execution_count": 26,
   "metadata": {},
   "outputs": [
    {
     "data": {
      "text/html": [
       "<div>\n",
       "<style scoped>\n",
       "    .dataframe tbody tr th:only-of-type {\n",
       "        vertical-align: middle;\n",
       "    }\n",
       "\n",
       "    .dataframe tbody tr th {\n",
       "        vertical-align: top;\n",
       "    }\n",
       "\n",
       "    .dataframe thead th {\n",
       "        text-align: right;\n",
       "    }\n",
       "</style>\n",
       "<table border=\"1\" class=\"dataframe\">\n",
       "  <thead>\n",
       "    <tr style=\"text-align: right;\">\n",
       "      <th></th>\n",
       "      <th>건강한정도</th>\n",
       "      <th>운동시간</th>\n",
       "      <th>수면시간</th>\n",
       "      <th>흡연여부</th>\n",
       "      <th>음주빈도</th>\n",
       "      <th>건강_군집</th>\n",
       "    </tr>\n",
       "  </thead>\n",
       "  <tbody>\n",
       "    <tr>\n",
       "      <th>count</th>\n",
       "      <td>54443.0000</td>\n",
       "      <td>54443.0000</td>\n",
       "      <td>54443.0000</td>\n",
       "      <td>54443.0000</td>\n",
       "      <td>54443.0000</td>\n",
       "      <td>54443.0000</td>\n",
       "    </tr>\n",
       "    <tr>\n",
       "      <th>mean</th>\n",
       "      <td>3.7721</td>\n",
       "      <td>-0.0000</td>\n",
       "      <td>-0.0000</td>\n",
       "      <td>1.8114</td>\n",
       "      <td>-0.0000</td>\n",
       "      <td>0.9769</td>\n",
       "    </tr>\n",
       "    <tr>\n",
       "      <th>std</th>\n",
       "      <td>0.9161</td>\n",
       "      <td>1.0000</td>\n",
       "      <td>1.0000</td>\n",
       "      <td>0.3912</td>\n",
       "      <td>1.0000</td>\n",
       "      <td>0.6709</td>\n",
       "    </tr>\n",
       "    <tr>\n",
       "      <th>min</th>\n",
       "      <td>1.0000</td>\n",
       "      <td>-0.8615</td>\n",
       "      <td>-6.0610</td>\n",
       "      <td>1.0000</td>\n",
       "      <td>-1.7637</td>\n",
       "      <td>0.0000</td>\n",
       "    </tr>\n",
       "    <tr>\n",
       "      <th>25%</th>\n",
       "      <td>3.0000</td>\n",
       "      <td>-0.5816</td>\n",
       "      <td>-0.5909</td>\n",
       "      <td>2.0000</td>\n",
       "      <td>-0.8813</td>\n",
       "      <td>1.0000</td>\n",
       "    </tr>\n",
       "    <tr>\n",
       "      <th>50%</th>\n",
       "      <td>4.0000</td>\n",
       "      <td>-0.3017</td>\n",
       "      <td>0.3208</td>\n",
       "      <td>2.0000</td>\n",
       "      <td>0.0011</td>\n",
       "      <td>1.0000</td>\n",
       "    </tr>\n",
       "    <tr>\n",
       "      <th>75%</th>\n",
       "      <td>4.0000</td>\n",
       "      <td>0.5379</td>\n",
       "      <td>0.3208</td>\n",
       "      <td>2.0000</td>\n",
       "      <td>0.8834</td>\n",
       "      <td>1.0000</td>\n",
       "    </tr>\n",
       "    <tr>\n",
       "      <th>max</th>\n",
       "      <td>5.0000</td>\n",
       "      <td>27.1258</td>\n",
       "      <td>12.1727</td>\n",
       "      <td>2.0000</td>\n",
       "      <td>2.6482</td>\n",
       "      <td>2.0000</td>\n",
       "    </tr>\n",
       "  </tbody>\n",
       "</table>\n",
       "</div>"
      ],
      "text/plain": [
       "           건강한정도       운동시간       수면시간       흡연여부       음주빈도      건강_군집\n",
       "count 54443.0000 54443.0000 54443.0000 54443.0000 54443.0000 54443.0000\n",
       "mean      3.7721    -0.0000    -0.0000     1.8114    -0.0000     0.9769\n",
       "std       0.9161     1.0000     1.0000     0.3912     1.0000     0.6709\n",
       "min       1.0000    -0.8615    -6.0610     1.0000    -1.7637     0.0000\n",
       "25%       3.0000    -0.5816    -0.5909     2.0000    -0.8813     1.0000\n",
       "50%       4.0000    -0.3017     0.3208     2.0000     0.0011     1.0000\n",
       "75%       4.0000     0.5379     0.3208     2.0000     0.8834     1.0000\n",
       "max       5.0000    27.1258    12.1727     2.0000     2.6482     2.0000"
      ]
     },
     "execution_count": 26,
     "metadata": {},
     "output_type": "execute_result"
    }
   ],
   "source": [
    "scaled_health_df.describe()"
   ]
  },
  {
   "cell_type": "code",
   "execution_count": 27,
   "metadata": {},
   "outputs": [
    {
     "data": {
      "text/plain": [
       "0        0\n",
       "1        0\n",
       "2        1\n",
       "3        1\n",
       "4        1\n",
       "        ..\n",
       "54438    2\n",
       "54439    1\n",
       "54440    1\n",
       "54441    0\n",
       "54442    1\n",
       "Name: 건강_군집, Length: 54443, dtype: int32"
      ]
     },
     "execution_count": 27,
     "metadata": {},
     "output_type": "execute_result"
    }
   ],
   "source": [
    "scaled_health_df.iloc[:,-1]"
   ]
  },
  {
   "cell_type": "code",
   "execution_count": 28,
   "metadata": {},
   "outputs": [],
   "source": [
    "score_samples = silhouette_samples(scaled_health_df.iloc[:,:-1], scaled_health_df.iloc[:,-1])"
   ]
  },
  {
   "cell_type": "code",
   "execution_count": 29,
   "metadata": {},
   "outputs": [],
   "source": [
    "scaled_health_df['sil_coeff'] = score_samples"
   ]
  },
  {
   "cell_type": "code",
   "execution_count": 30,
   "metadata": {},
   "outputs": [
    {
     "name": "stdout",
     "output_type": "stream",
     "text": [
      "0.2089557412690998\n"
     ]
    }
   ],
   "source": [
    "average_score = silhouette_score(scaled_health_df.iloc[:,:-2], scaled_health_df.iloc[:,-2])\n",
    "print(average_score)"
   ]
  },
  {
   "cell_type": "code",
   "execution_count": 31,
   "metadata": {},
   "outputs": [
    {
     "data": {
      "text/plain": [
       "건강_군집\n",
       "0   0.2384\n",
       "1   0.2255\n",
       "2   0.1337\n",
       "Name: sil_coeff, dtype: float64"
      ]
     },
     "execution_count": 31,
     "metadata": {},
     "output_type": "execute_result"
    }
   ],
   "source": [
    "scaled_health_df.groupby('건강_군집')['sil_coeff'].mean()"
   ]
  },
  {
   "cell_type": "markdown",
   "metadata": {},
   "source": [
    "> 적절한 군집 생성은 안되는 것 같은데.. 전체 평균 실루엣 계수가 계속 많이 낮게 나옴"
   ]
  },
  {
   "cell_type": "markdown",
   "metadata": {},
   "source": [
    "5. 건강한정도 (본인 체감 매우 1 건강하지 않음~매우 건강함 5) 임의로 구분해서 현황 파악"
   ]
  },
  {
   "cell_type": "code",
   "execution_count": 86,
   "metadata": {},
   "outputs": [
    {
     "data": {
      "text/html": [
       "<div>\n",
       "<style scoped>\n",
       "    .dataframe tbody tr th:only-of-type {\n",
       "        vertical-align: middle;\n",
       "    }\n",
       "\n",
       "    .dataframe tbody tr th {\n",
       "        vertical-align: top;\n",
       "    }\n",
       "\n",
       "    .dataframe thead th {\n",
       "        text-align: right;\n",
       "    }\n",
       "</style>\n",
       "<table border=\"1\" class=\"dataframe\">\n",
       "  <thead>\n",
       "    <tr style=\"text-align: right;\">\n",
       "      <th></th>\n",
       "      <th>건강한정도</th>\n",
       "      <th>운동시간(주)</th>\n",
       "      <th>수면시간(일)</th>\n",
       "      <th>흡연여부</th>\n",
       "      <th>음주빈도</th>\n",
       "    </tr>\n",
       "  </thead>\n",
       "  <tbody>\n",
       "    <tr>\n",
       "      <th>count</th>\n",
       "      <td>703.0000</td>\n",
       "      <td>703.0000</td>\n",
       "      <td>703.0000</td>\n",
       "      <td>703.0000</td>\n",
       "      <td>703.0000</td>\n",
       "    </tr>\n",
       "    <tr>\n",
       "      <th>mean</th>\n",
       "      <td>1.0000</td>\n",
       "      <td>3.1124</td>\n",
       "      <td>6.5220</td>\n",
       "      <td>1.7639</td>\n",
       "      <td>2.7909</td>\n",
       "    </tr>\n",
       "    <tr>\n",
       "      <th>std</th>\n",
       "      <td>0.0000</td>\n",
       "      <td>4.3050</td>\n",
       "      <td>1.3657</td>\n",
       "      <td>0.4250</td>\n",
       "      <td>1.2922</td>\n",
       "    </tr>\n",
       "    <tr>\n",
       "      <th>min</th>\n",
       "      <td>1.0000</td>\n",
       "      <td>0.0000</td>\n",
       "      <td>1.0000</td>\n",
       "      <td>1.0000</td>\n",
       "      <td>1.0000</td>\n",
       "    </tr>\n",
       "    <tr>\n",
       "      <th>25%</th>\n",
       "      <td>1.0000</td>\n",
       "      <td>1.0000</td>\n",
       "      <td>6.0000</td>\n",
       "      <td>2.0000</td>\n",
       "      <td>2.0000</td>\n",
       "    </tr>\n",
       "    <tr>\n",
       "      <th>50%</th>\n",
       "      <td>1.0000</td>\n",
       "      <td>2.0000</td>\n",
       "      <td>7.0000</td>\n",
       "      <td>2.0000</td>\n",
       "      <td>3.0000</td>\n",
       "    </tr>\n",
       "    <tr>\n",
       "      <th>75%</th>\n",
       "      <td>1.0000</td>\n",
       "      <td>5.0000</td>\n",
       "      <td>7.0000</td>\n",
       "      <td>2.0000</td>\n",
       "      <td>4.0000</td>\n",
       "    </tr>\n",
       "    <tr>\n",
       "      <th>max</th>\n",
       "      <td>1.0000</td>\n",
       "      <td>48.0000</td>\n",
       "      <td>12.0000</td>\n",
       "      <td>2.0000</td>\n",
       "      <td>6.0000</td>\n",
       "    </tr>\n",
       "  </tbody>\n",
       "</table>\n",
       "</div>"
      ],
      "text/plain": [
       "         건강한정도  운동시간(주)  수면시간(일)     흡연여부     음주빈도\n",
       "count 703.0000 703.0000 703.0000 703.0000 703.0000\n",
       "mean    1.0000   3.1124   6.5220   1.7639   2.7909\n",
       "std     0.0000   4.3050   1.3657   0.4250   1.2922\n",
       "min     1.0000   0.0000   1.0000   1.0000   1.0000\n",
       "25%     1.0000   1.0000   6.0000   2.0000   2.0000\n",
       "50%     1.0000   2.0000   7.0000   2.0000   3.0000\n",
       "75%     1.0000   5.0000   7.0000   2.0000   4.0000\n",
       "max     1.0000  48.0000  12.0000   2.0000   6.0000"
      ]
     },
     "execution_count": 86,
     "metadata": {},
     "output_type": "execute_result"
    }
   ],
   "source": [
    "health_df[health_df['건강한정도']==1].describe()"
   ]
  },
  {
   "cell_type": "code",
   "execution_count": 87,
   "metadata": {},
   "outputs": [
    {
     "data": {
      "text/html": [
       "<div>\n",
       "<style scoped>\n",
       "    .dataframe tbody tr th:only-of-type {\n",
       "        vertical-align: middle;\n",
       "    }\n",
       "\n",
       "    .dataframe tbody tr th {\n",
       "        vertical-align: top;\n",
       "    }\n",
       "\n",
       "    .dataframe thead th {\n",
       "        text-align: right;\n",
       "    }\n",
       "</style>\n",
       "<table border=\"1\" class=\"dataframe\">\n",
       "  <thead>\n",
       "    <tr style=\"text-align: right;\">\n",
       "      <th></th>\n",
       "      <th>건강한정도</th>\n",
       "      <th>운동시간(주)</th>\n",
       "      <th>수면시간(일)</th>\n",
       "      <th>흡연여부</th>\n",
       "      <th>음주빈도</th>\n",
       "    </tr>\n",
       "  </thead>\n",
       "  <tbody>\n",
       "    <tr>\n",
       "      <th>count</th>\n",
       "      <td>4526.0000</td>\n",
       "      <td>4526.0000</td>\n",
       "      <td>4526.0000</td>\n",
       "      <td>4526.0000</td>\n",
       "      <td>4526.0000</td>\n",
       "    </tr>\n",
       "    <tr>\n",
       "      <th>mean</th>\n",
       "      <td>2.0000</td>\n",
       "      <td>2.0753</td>\n",
       "      <td>6.3040</td>\n",
       "      <td>1.8137</td>\n",
       "      <td>2.8361</td>\n",
       "    </tr>\n",
       "    <tr>\n",
       "      <th>std</th>\n",
       "      <td>0.0000</td>\n",
       "      <td>2.8626</td>\n",
       "      <td>1.3129</td>\n",
       "      <td>0.3894</td>\n",
       "      <td>1.1958</td>\n",
       "    </tr>\n",
       "    <tr>\n",
       "      <th>min</th>\n",
       "      <td>2.0000</td>\n",
       "      <td>0.0000</td>\n",
       "      <td>1.0000</td>\n",
       "      <td>1.0000</td>\n",
       "      <td>1.0000</td>\n",
       "    </tr>\n",
       "    <tr>\n",
       "      <th>25%</th>\n",
       "      <td>2.0000</td>\n",
       "      <td>0.0000</td>\n",
       "      <td>5.0000</td>\n",
       "      <td>2.0000</td>\n",
       "      <td>2.0000</td>\n",
       "    </tr>\n",
       "    <tr>\n",
       "      <th>50%</th>\n",
       "      <td>2.0000</td>\n",
       "      <td>1.0000</td>\n",
       "      <td>6.0000</td>\n",
       "      <td>2.0000</td>\n",
       "      <td>3.0000</td>\n",
       "    </tr>\n",
       "    <tr>\n",
       "      <th>75%</th>\n",
       "      <td>2.0000</td>\n",
       "      <td>3.0000</td>\n",
       "      <td>7.0000</td>\n",
       "      <td>2.0000</td>\n",
       "      <td>4.0000</td>\n",
       "    </tr>\n",
       "    <tr>\n",
       "      <th>max</th>\n",
       "      <td>2.0000</td>\n",
       "      <td>40.0000</td>\n",
       "      <td>12.0000</td>\n",
       "      <td>2.0000</td>\n",
       "      <td>6.0000</td>\n",
       "    </tr>\n",
       "  </tbody>\n",
       "</table>\n",
       "</div>"
      ],
      "text/plain": [
       "          건강한정도   운동시간(주)   수면시간(일)      흡연여부      음주빈도\n",
       "count 4526.0000 4526.0000 4526.0000 4526.0000 4526.0000\n",
       "mean     2.0000    2.0753    6.3040    1.8137    2.8361\n",
       "std      0.0000    2.8626    1.3129    0.3894    1.1958\n",
       "min      2.0000    0.0000    1.0000    1.0000    1.0000\n",
       "25%      2.0000    0.0000    5.0000    2.0000    2.0000\n",
       "50%      2.0000    1.0000    6.0000    2.0000    3.0000\n",
       "75%      2.0000    3.0000    7.0000    2.0000    4.0000\n",
       "max      2.0000   40.0000   12.0000    2.0000    6.0000"
      ]
     },
     "execution_count": 87,
     "metadata": {},
     "output_type": "execute_result"
    }
   ],
   "source": [
    "health_df[health_df['건강한정도']==2].describe()"
   ]
  },
  {
   "cell_type": "code",
   "execution_count": 88,
   "metadata": {},
   "outputs": [
    {
     "data": {
      "text/html": [
       "<div>\n",
       "<style scoped>\n",
       "    .dataframe tbody tr th:only-of-type {\n",
       "        vertical-align: middle;\n",
       "    }\n",
       "\n",
       "    .dataframe tbody tr th {\n",
       "        vertical-align: top;\n",
       "    }\n",
       "\n",
       "    .dataframe thead th {\n",
       "        text-align: right;\n",
       "    }\n",
       "</style>\n",
       "<table border=\"1\" class=\"dataframe\">\n",
       "  <thead>\n",
       "    <tr style=\"text-align: right;\">\n",
       "      <th></th>\n",
       "      <th>건강한정도</th>\n",
       "      <th>운동시간(주)</th>\n",
       "      <th>수면시간(일)</th>\n",
       "      <th>흡연여부</th>\n",
       "      <th>음주빈도</th>\n",
       "    </tr>\n",
       "  </thead>\n",
       "  <tbody>\n",
       "    <tr>\n",
       "      <th>count</th>\n",
       "      <td>12666.0000</td>\n",
       "      <td>12666.0000</td>\n",
       "      <td>12666.0000</td>\n",
       "      <td>12666.0000</td>\n",
       "      <td>12666.0000</td>\n",
       "    </tr>\n",
       "    <tr>\n",
       "      <th>mean</th>\n",
       "      <td>3.0000</td>\n",
       "      <td>2.4385</td>\n",
       "      <td>6.5511</td>\n",
       "      <td>1.8120</td>\n",
       "      <td>2.9502</td>\n",
       "    </tr>\n",
       "    <tr>\n",
       "      <th>std</th>\n",
       "      <td>0.0000</td>\n",
       "      <td>3.3647</td>\n",
       "      <td>1.1490</td>\n",
       "      <td>0.3907</td>\n",
       "      <td>1.1491</td>\n",
       "    </tr>\n",
       "    <tr>\n",
       "      <th>min</th>\n",
       "      <td>3.0000</td>\n",
       "      <td>0.0000</td>\n",
       "      <td>1.0000</td>\n",
       "      <td>1.0000</td>\n",
       "      <td>1.0000</td>\n",
       "    </tr>\n",
       "    <tr>\n",
       "      <th>25%</th>\n",
       "      <td>3.0000</td>\n",
       "      <td>0.0000</td>\n",
       "      <td>6.0000</td>\n",
       "      <td>2.0000</td>\n",
       "      <td>2.0000</td>\n",
       "    </tr>\n",
       "    <tr>\n",
       "      <th>50%</th>\n",
       "      <td>3.0000</td>\n",
       "      <td>1.0000</td>\n",
       "      <td>7.0000</td>\n",
       "      <td>2.0000</td>\n",
       "      <td>3.0000</td>\n",
       "    </tr>\n",
       "    <tr>\n",
       "      <th>75%</th>\n",
       "      <td>3.0000</td>\n",
       "      <td>3.0000</td>\n",
       "      <td>7.0000</td>\n",
       "      <td>2.0000</td>\n",
       "      <td>4.0000</td>\n",
       "    </tr>\n",
       "    <tr>\n",
       "      <th>max</th>\n",
       "      <td>3.0000</td>\n",
       "      <td>100.0000</td>\n",
       "      <td>15.0000</td>\n",
       "      <td>2.0000</td>\n",
       "      <td>6.0000</td>\n",
       "    </tr>\n",
       "  </tbody>\n",
       "</table>\n",
       "</div>"
      ],
      "text/plain": [
       "           건강한정도    운동시간(주)    수면시간(일)       흡연여부       음주빈도\n",
       "count 12666.0000 12666.0000 12666.0000 12666.0000 12666.0000\n",
       "mean      3.0000     2.4385     6.5511     1.8120     2.9502\n",
       "std       0.0000     3.3647     1.1490     0.3907     1.1491\n",
       "min       3.0000     0.0000     1.0000     1.0000     1.0000\n",
       "25%       3.0000     0.0000     6.0000     2.0000     2.0000\n",
       "50%       3.0000     1.0000     7.0000     2.0000     3.0000\n",
       "75%       3.0000     3.0000     7.0000     2.0000     4.0000\n",
       "max       3.0000   100.0000    15.0000     2.0000     6.0000"
      ]
     },
     "execution_count": 88,
     "metadata": {},
     "output_type": "execute_result"
    }
   ],
   "source": [
    "health_df[health_df['건강한정도']==3].describe()"
   ]
  },
  {
   "cell_type": "code",
   "execution_count": 89,
   "metadata": {},
   "outputs": [
    {
     "data": {
      "text/html": [
       "<div>\n",
       "<style scoped>\n",
       "    .dataframe tbody tr th:only-of-type {\n",
       "        vertical-align: middle;\n",
       "    }\n",
       "\n",
       "    .dataframe tbody tr th {\n",
       "        vertical-align: top;\n",
       "    }\n",
       "\n",
       "    .dataframe thead th {\n",
       "        text-align: right;\n",
       "    }\n",
       "</style>\n",
       "<table border=\"1\" class=\"dataframe\">\n",
       "  <thead>\n",
       "    <tr style=\"text-align: right;\">\n",
       "      <th></th>\n",
       "      <th>건강한정도</th>\n",
       "      <th>운동시간(주)</th>\n",
       "      <th>수면시간(일)</th>\n",
       "      <th>흡연여부</th>\n",
       "      <th>음주빈도</th>\n",
       "    </tr>\n",
       "  </thead>\n",
       "  <tbody>\n",
       "    <tr>\n",
       "      <th>count</th>\n",
       "      <td>25127.0000</td>\n",
       "      <td>25127.0000</td>\n",
       "      <td>25127.0000</td>\n",
       "      <td>25127.0000</td>\n",
       "      <td>25127.0000</td>\n",
       "    </tr>\n",
       "    <tr>\n",
       "      <th>mean</th>\n",
       "      <td>4.0000</td>\n",
       "      <td>3.1362</td>\n",
       "      <td>6.7073</td>\n",
       "      <td>1.8209</td>\n",
       "      <td>3.0398</td>\n",
       "    </tr>\n",
       "    <tr>\n",
       "      <th>std</th>\n",
       "      <td>0.0000</td>\n",
       "      <td>3.3984</td>\n",
       "      <td>1.0231</td>\n",
       "      <td>0.3834</td>\n",
       "      <td>1.0986</td>\n",
       "    </tr>\n",
       "    <tr>\n",
       "      <th>min</th>\n",
       "      <td>4.0000</td>\n",
       "      <td>0.0000</td>\n",
       "      <td>1.0000</td>\n",
       "      <td>1.0000</td>\n",
       "      <td>1.0000</td>\n",
       "    </tr>\n",
       "    <tr>\n",
       "      <th>25%</th>\n",
       "      <td>4.0000</td>\n",
       "      <td>1.0000</td>\n",
       "      <td>6.0000</td>\n",
       "      <td>2.0000</td>\n",
       "      <td>3.0000</td>\n",
       "    </tr>\n",
       "    <tr>\n",
       "      <th>50%</th>\n",
       "      <td>4.0000</td>\n",
       "      <td>2.0000</td>\n",
       "      <td>7.0000</td>\n",
       "      <td>2.0000</td>\n",
       "      <td>3.0000</td>\n",
       "    </tr>\n",
       "    <tr>\n",
       "      <th>75%</th>\n",
       "      <td>4.0000</td>\n",
       "      <td>5.0000</td>\n",
       "      <td>7.0000</td>\n",
       "      <td>2.0000</td>\n",
       "      <td>4.0000</td>\n",
       "    </tr>\n",
       "    <tr>\n",
       "      <th>max</th>\n",
       "      <td>4.0000</td>\n",
       "      <td>75.0000</td>\n",
       "      <td>16.0000</td>\n",
       "      <td>2.0000</td>\n",
       "      <td>6.0000</td>\n",
       "    </tr>\n",
       "  </tbody>\n",
       "</table>\n",
       "</div>"
      ],
      "text/plain": [
       "           건강한정도    운동시간(주)    수면시간(일)       흡연여부       음주빈도\n",
       "count 25127.0000 25127.0000 25127.0000 25127.0000 25127.0000\n",
       "mean      4.0000     3.1362     6.7073     1.8209     3.0398\n",
       "std       0.0000     3.3984     1.0231     0.3834     1.0986\n",
       "min       4.0000     0.0000     1.0000     1.0000     1.0000\n",
       "25%       4.0000     1.0000     6.0000     2.0000     3.0000\n",
       "50%       4.0000     2.0000     7.0000     2.0000     3.0000\n",
       "75%       4.0000     5.0000     7.0000     2.0000     4.0000\n",
       "max       4.0000    75.0000    16.0000     2.0000     6.0000"
      ]
     },
     "execution_count": 89,
     "metadata": {},
     "output_type": "execute_result"
    }
   ],
   "source": [
    "health_df[health_df['건강한정도']==4].describe()"
   ]
  },
  {
   "cell_type": "code",
   "execution_count": 100,
   "metadata": {},
   "outputs": [
    {
     "name": "stderr",
     "output_type": "stream",
     "text": [
      "/opt/homebrew/Caskroom/miniforge/base/envs/multi_crawling/lib/python3.9/site-packages/seaborn/_decorators.py:36: FutureWarning: Pass the following variable as a keyword arg: x. From version 0.12, the only valid positional argument will be `data`, and passing other arguments without an explicit keyword will result in an error or misinterpretation.\n",
      "  warnings.warn(\n"
     ]
    },
    {
     "data": {
      "text/plain": [
       "<AxesSubplot:xlabel='운동시간(주)'>"
      ]
     },
     "execution_count": 100,
     "metadata": {},
     "output_type": "execute_result"
    },
    {
     "data": {
      "image/png": "[encoded data removed]",
      "text/plain": [
       "<Figure size 432x288 with 1 Axes>"
      ]
     },
     "metadata": {
      "needs_background": "light"
     },
     "output_type": "display_data"
    }
   ],
   "source": [
    "sns.boxplot(health_df[health_df['건강한정도']==5]['운동시간(주)'])"
   ]
  },
  {
   "cell_type": "markdown",
   "metadata": {},
   "source": [
    "# 건강 지표는 줄일 수 없음.. \n",
    "# 건강한정도(주관적 지표)와 운동시간/수면시간/흡연여부/음주빈도(객관적 지표) 둘 다 군집화도 어렵고 PCA도 어려움."
   ]
  }
 ],
 "metadata": {
  "interpreter": {
   "hash": "ecab3b44ec85b3fc152ce43053029da2d7fea401295eddadd715c90b258d02c3"
  },
  "kernelspec": {
   "display_name": "Python 3.9.0 ('multi_crawling')",
   "language": "python",
   "name": "python3"
  },
  "language_info": {
   "codemirror_mode": {
    "name": "ipython",
    "version": 3
   },
   "file_extension": ".py",
   "mimetype": "text/x-python",
   "name": "python",
   "nbconvert_exporter": "python",
   "pygments_lexer": "ipython3",
   "version": "3.9.0"
  },
  "orig_nbformat": 4
 },
 "nbformat": 4,
 "nbformat_minor": 2
}
