{
 "cells": [
  {
   "cell_type": "code",
   "execution_count": 43,
   "metadata": {},
   "outputs": [],
   "source": [
    "import pandas as pd\n",
    "import numpy as np\n",
    "from matplotlib import rc\n",
    "from matplotlib import pyplot as plt\n",
    "import seaborn as sns\n",
    "# pd.set_option('display.max_columns', None)\n",
    "# pd.set_option('display.max_rows', None)\n",
    "\n",
    "rc('font', family='AppleGothic')\n",
    "\n",
    "plt.rcParams['axes.unicode_minus'] = False\n",
    "\n",
    "\n",
    "df2016 = pd.read_csv('GP_2016_AQ.csv',index_col=0)\n",
    "health_16 = pd.read_csv('16health.csv')\n",
    "df2016.insert(28, '건강한정도', health_16['건강한정도'])\n",
    "\n",
    "df2017 = pd.read_csv('GP_2017_AQ.csv',index_col=0)\n",
    "health_17 = pd.read_csv('17health.csv')\n",
    "df2017.insert(28, '건강한정도', health_17['건강한정도'])\n",
    "\n",
    "df2018 = pd.read_csv('GP_2018_AQ.csv',index_col=0)\n",
    "health_18 = pd.read_csv('18health.csv')\n",
    "df2018.insert(28, '건강한정도', health_18['건강한정도'])\n",
    "\n",
    "df = pd.concat([df2016, df2017, df2018])"
   ]
  },
  {
   "cell_type": "code",
   "execution_count": 44,
   "metadata": {},
   "outputs": [
    {
     "data": {
      "text/html": [
       "<div>\n",
       "<style scoped>\n",
       "    .dataframe tbody tr th:only-of-type {\n",
       "        vertical-align: middle;\n",
       "    }\n",
       "\n",
       "    .dataframe tbody tr th {\n",
       "        vertical-align: top;\n",
       "    }\n",
       "\n",
       "    .dataframe thead th {\n",
       "        text-align: right;\n",
       "    }\n",
       "</style>\n",
       "<table border=\"1\" class=\"dataframe\">\n",
       "  <thead>\n",
       "    <tr style=\"text-align: right;\">\n",
       "      <th></th>\n",
       "      <th>본분교</th>\n",
       "      <th>국공사립</th>\n",
       "      <th>주야간</th>\n",
       "      <th>전공계열</th>\n",
       "      <th>전공_소분류_코드</th>\n",
       "      <th>전공_세분류_코드</th>\n",
       "      <th>학교유형</th>\n",
       "      <th>학교소재지역</th>\n",
       "      <th>성별</th>\n",
       "      <th>연령</th>\n",
       "      <th>...</th>\n",
       "      <th>신입여부</th>\n",
       "      <th>취업_중요요소_1순위</th>\n",
       "      <th>취업_중요요소_2순위</th>\n",
       "      <th>첫직장여부</th>\n",
       "      <th>건강한정도</th>\n",
       "      <th>운동시간(주)</th>\n",
       "      <th>수면시간(일)</th>\n",
       "      <th>흡연여부</th>\n",
       "      <th>음주빈도</th>\n",
       "      <th>조사년도</th>\n",
       "    </tr>\n",
       "  </thead>\n",
       "  <tbody>\n",
       "    <tr>\n",
       "      <th>18158</th>\n",
       "      <td>1</td>\n",
       "      <td>3</td>\n",
       "      <td>1</td>\n",
       "      <td>7</td>\n",
       "      <td>U070606</td>\n",
       "      <td>U07060600008</td>\n",
       "      <td>2</td>\n",
       "      <td>1</td>\n",
       "      <td>1</td>\n",
       "      <td>27.0</td>\n",
       "      <td>...</td>\n",
       "      <td>0.0</td>\n",
       "      <td>0.0</td>\n",
       "      <td>0.0</td>\n",
       "      <td>0.0</td>\n",
       "      <td>5</td>\n",
       "      <td>6</td>\n",
       "      <td>7</td>\n",
       "      <td>1</td>\n",
       "      <td>3</td>\n",
       "      <td>2018</td>\n",
       "    </tr>\n",
       "    <tr>\n",
       "      <th>18159</th>\n",
       "      <td>1</td>\n",
       "      <td>3</td>\n",
       "      <td>1</td>\n",
       "      <td>7</td>\n",
       "      <td>U070606</td>\n",
       "      <td>U07060600003</td>\n",
       "      <td>2</td>\n",
       "      <td>1</td>\n",
       "      <td>2</td>\n",
       "      <td>25.0</td>\n",
       "      <td>...</td>\n",
       "      <td>3.0</td>\n",
       "      <td>3.0</td>\n",
       "      <td>1.0</td>\n",
       "      <td>1.0</td>\n",
       "      <td>4</td>\n",
       "      <td>0</td>\n",
       "      <td>8</td>\n",
       "      <td>2</td>\n",
       "      <td>4</td>\n",
       "      <td>2018</td>\n",
       "    </tr>\n",
       "    <tr>\n",
       "      <th>18160</th>\n",
       "      <td>1</td>\n",
       "      <td>3</td>\n",
       "      <td>1</td>\n",
       "      <td>7</td>\n",
       "      <td>U070606</td>\n",
       "      <td>U07060600001</td>\n",
       "      <td>2</td>\n",
       "      <td>1</td>\n",
       "      <td>1</td>\n",
       "      <td>26.0</td>\n",
       "      <td>...</td>\n",
       "      <td>4.0</td>\n",
       "      <td>2.0</td>\n",
       "      <td>1.0</td>\n",
       "      <td>2.0</td>\n",
       "      <td>5</td>\n",
       "      <td>2</td>\n",
       "      <td>8</td>\n",
       "      <td>1</td>\n",
       "      <td>5</td>\n",
       "      <td>2018</td>\n",
       "    </tr>\n",
       "    <tr>\n",
       "      <th>18161</th>\n",
       "      <td>1</td>\n",
       "      <td>3</td>\n",
       "      <td>2</td>\n",
       "      <td>3</td>\n",
       "      <td>C030201</td>\n",
       "      <td>C03020100019</td>\n",
       "      <td>1</td>\n",
       "      <td>8</td>\n",
       "      <td>1</td>\n",
       "      <td>28.0</td>\n",
       "      <td>...</td>\n",
       "      <td>0.0</td>\n",
       "      <td>0.0</td>\n",
       "      <td>0.0</td>\n",
       "      <td>0.0</td>\n",
       "      <td>5</td>\n",
       "      <td>1</td>\n",
       "      <td>4</td>\n",
       "      <td>1</td>\n",
       "      <td>1</td>\n",
       "      <td>2018</td>\n",
       "    </tr>\n",
       "    <tr>\n",
       "      <th>18162</th>\n",
       "      <td>1</td>\n",
       "      <td>3</td>\n",
       "      <td>1</td>\n",
       "      <td>3</td>\n",
       "      <td>C030201</td>\n",
       "      <td>C03020100017</td>\n",
       "      <td>1</td>\n",
       "      <td>8</td>\n",
       "      <td>1</td>\n",
       "      <td>27.0</td>\n",
       "      <td>...</td>\n",
       "      <td>1.0</td>\n",
       "      <td>4.0</td>\n",
       "      <td>7.0</td>\n",
       "      <td>1.0</td>\n",
       "      <td>4</td>\n",
       "      <td>2</td>\n",
       "      <td>7</td>\n",
       "      <td>2</td>\n",
       "      <td>3</td>\n",
       "      <td>2018</td>\n",
       "    </tr>\n",
       "  </tbody>\n",
       "</table>\n",
       "<p>5 rows × 34 columns</p>\n",
       "</div>"
      ],
      "text/plain": [
       "       본분교  국공사립  주야간  전공계열 전공_소분류_코드     전공_세분류_코드  학교유형  학교소재지역  성별    연령  \\\n",
       "18158    1     3    1     7   U070606  U07060600008     2       1   1  27.0   \n",
       "18159    1     3    1     7   U070606  U07060600003     2       1   2  25.0   \n",
       "18160    1     3    1     7   U070606  U07060600001     2       1   1  26.0   \n",
       "18161    1     3    2     3   C030201  C03020100019     1       8   1  28.0   \n",
       "18162    1     3    1     3   C030201  C03020100017     1       8   1  27.0   \n",
       "\n",
       "       ...  신입여부  취업_중요요소_1순위  취업_중요요소_2순위  첫직장여부  건강한정도  운동시간(주)  수면시간(일)  \\\n",
       "18158  ...   0.0          0.0          0.0    0.0      5        6        7   \n",
       "18159  ...   3.0          3.0          1.0    1.0      4        0        8   \n",
       "18160  ...   4.0          2.0          1.0    2.0      5        2        8   \n",
       "18161  ...   0.0          0.0          0.0    0.0      5        1        4   \n",
       "18162  ...   1.0          4.0          7.0    1.0      4        2        7   \n",
       "\n",
       "       흡연여부  음주빈도  조사년도  \n",
       "18158     1     3  2018  \n",
       "18159     2     4  2018  \n",
       "18160     1     5  2018  \n",
       "18161     1     1  2018  \n",
       "18162     2     3  2018  \n",
       "\n",
       "[5 rows x 34 columns]"
      ]
     },
     "execution_count": 44,
     "metadata": {},
     "output_type": "execute_result"
    }
   ],
   "source": [
    "df2018.tail()"
   ]
  },
  {
   "cell_type": "markdown",
   "metadata": {},
   "source": [
    "---\n",
    "\n",
    "# 변수 줄이기 시도"
   ]
  },
  {
   "cell_type": "code",
   "execution_count": 45,
   "metadata": {},
   "outputs": [
    {
     "data": {
      "text/plain": [
       "Index(['산업분류', '직업분류', '직원수', '사업체위치(시도)', '종사상 지위', '계약여부', '정규직여부',\n",
       "       '인턴경험여부(현직장)', '근로소득(현재_월_만원)', '근로소득(초임_월_만원)', '구직기간(주)', '구직경로',\n",
       "       '구직방법', '신입여부', '취업_중요요소_1순위', '취업_중요요소_2순위', '첫직장여부'],\n",
       "      dtype='object')"
      ]
     },
     "execution_count": 45,
     "metadata": {},
     "output_type": "execute_result"
    }
   ],
   "source": [
    "cols = df.columns[11:-6]\n",
    "cols"
   ]
  },
  {
   "cell_type": "code",
   "execution_count": 46,
   "metadata": {},
   "outputs": [
    {
     "name": "stdout",
     "output_type": "stream",
     "text": [
      "0.0     14786\n",
      "3.0      6666\n",
      "16.0     6340\n",
      "13.0     3827\n",
      "17.0     3760\n",
      "7.0      3386\n",
      "10.0     3066\n",
      "15.0     2441\n",
      "9.0      1951\n",
      "14.0     1474\n",
      "6.0      1421\n",
      "11.0     1327\n",
      "18.0     1083\n",
      "19.0      944\n",
      "8.0       907\n",
      "4.0       326\n",
      "12.0      301\n",
      "1.0       253\n",
      "5.0       159\n",
      "21.0       12\n",
      "2.0         7\n",
      "20.0        6\n",
      "Name: 산업분류, dtype: int64\n",
      "\n",
      "0.0     14788\n",
      "2.0     10208\n",
      "15.0     3651\n",
      "21.0     3329\n",
      "30.0     2972\n",
      "41.0     2776\n",
      "61.0     2586\n",
      "13.0     2279\n",
      "14.0     1424\n",
      "53.0     1380\n",
      "23.0     1251\n",
      "12.0     1001\n",
      "81.0      957\n",
      "3.0       957\n",
      "83.0      746\n",
      "25.0      719\n",
      "62.0      407\n",
      "42.0      396\n",
      "52.0      370\n",
      "85.0      252\n",
      "90.0      250\n",
      "24.0      207\n",
      "70.0      197\n",
      "51.0      179\n",
      "54.0      165\n",
      "22.0      144\n",
      "87.0      131\n",
      "56.0      127\n",
      "88.0      122\n",
      "82.0      106\n",
      "84.0       87\n",
      "55.0       73\n",
      "11.0       70\n",
      "89.0       53\n",
      "1.0        50\n",
      "86.0       33\n",
      "Name: 직업분류, dtype: int64\n",
      "\n",
      "0.0    20422\n",
      "9.0     9055\n",
      "3.0     4835\n",
      "6.0     3918\n",
      "1.0     3729\n",
      "2.0     3166\n",
      "5.0     3133\n",
      "4.0     2236\n",
      "8.0     2095\n",
      "7.0     1854\n",
      "Name: 직원수, dtype: int64\n",
      "\n",
      "0.0     14804\n",
      "1.0     12684\n",
      "8.0      7335\n",
      "2.0      2623\n",
      "15.0     2203\n",
      "14.0     1700\n",
      "3.0      1658\n",
      "5.0      1469\n",
      "4.0      1402\n",
      "11.0     1284\n",
      "9.0      1208\n",
      "13.0     1172\n",
      "10.0     1160\n",
      "12.0     1149\n",
      "6.0      1059\n",
      "7.0       859\n",
      "16.0      373\n",
      "17.0      301\n",
      "Name: 사업체위치(시도), dtype: int64\n",
      "\n",
      "1.0    31041\n",
      "0.0    14752\n",
      "2.0     6345\n",
      "5.0     1088\n",
      "4.0      598\n",
      "3.0      507\n",
      "6.0      112\n",
      "Name: 종사상 지위, dtype: int64\n",
      "\n",
      "2.0    29742\n",
      "0.0    16551\n",
      "1.0     8150\n",
      "Name: 계약여부, dtype: int64\n",
      "\n",
      "1.0    26937\n",
      "0.0    16608\n",
      "2.0    10898\n",
      "Name: 정규직여부, dtype: int64\n",
      "\n",
      "2.0    33325\n",
      "0.0    16550\n",
      "1.0     4568\n",
      "Name: 인턴경험여부(현직장), dtype: int64\n",
      "\n",
      "0.0      14925\n",
      "200.0     4383\n",
      "250.0     2771\n",
      "180.0     2033\n",
      "300.0     1987\n",
      "         ...  \n",
      "427.0        1\n",
      "432.0        1\n",
      "22.0         1\n",
      "760.0        1\n",
      "286.0        1\n",
      "Name: 근로소득(현재_월_만원), Length: 466, dtype: int64\n",
      "\n",
      "0.0      14952\n",
      "200.0     4404\n",
      "180.0     2707\n",
      "250.0     2256\n",
      "150.0     2191\n",
      "         ...  \n",
      "351.0        1\n",
      "222.0        1\n",
      "13.0         1\n",
      "760.0        1\n",
      "286.0        1\n",
      "Name: 근로소득(초임_월_만원), Length: 447, dtype: int64\n",
      "\n",
      "0.0      31338\n",
      "4.0       2769\n",
      "26.0      2235\n",
      "1.0       2139\n",
      "13.0      1889\n",
      "         ...  \n",
      "190.0        1\n",
      "236.0        1\n",
      "101.0        1\n",
      "77.0         1\n",
      "220.0        1\n",
      "Name: 구직기간(주), Length: 147, dtype: int64\n",
      "\n",
      "0.0     14764\n",
      "1.0     13707\n",
      "6.0      8709\n",
      "4.0      4595\n",
      "3.0      3923\n",
      "5.0      1888\n",
      "7.0      1815\n",
      "10.0     1668\n",
      "2.0      1219\n",
      "9.0      1051\n",
      "12.0      544\n",
      "11.0      357\n",
      "8.0       203\n",
      "Name: 구직경로, dtype: int64\n",
      "\n",
      "9.0     17134\n",
      "0.0     16474\n",
      "4.0      6887\n",
      "2.0      4824\n",
      "3.0      2179\n",
      "10.0     2083\n",
      "1.0      1654\n",
      "7.0      1083\n",
      "13.0      394\n",
      "15.0      357\n",
      "5.0       354\n",
      "11.0      282\n",
      "12.0      244\n",
      "14.0      214\n",
      "8.0       166\n",
      "6.0       114\n",
      "Name: 구직방법, dtype: int64\n",
      "\n",
      "1.0    26490\n",
      "0.0    14756\n",
      "3.0     7750\n",
      "4.0     3203\n",
      "2.0     1971\n",
      "5.0      273\n",
      "Name: 신입여부, dtype: int64\n",
      "\n",
      "0.0     14752\n",
      "1.0     11089\n",
      "3.0      8241\n",
      "4.0      5068\n",
      "2.0      4579\n",
      "9.0      2489\n",
      "7.0      2458\n",
      "13.0     1309\n",
      "10.0     1269\n",
      "8.0       985\n",
      "11.0      590\n",
      "5.0       471\n",
      "6.0       443\n",
      "12.0      298\n",
      "14.0      210\n",
      "16.0      119\n",
      "15.0       73\n",
      "Name: 취업_중요요소_1순위, dtype: int64\n",
      "\n",
      "0.0     14813\n",
      "3.0      5386\n",
      "2.0      5243\n",
      "1.0      5114\n",
      "7.0      4487\n",
      "4.0      4256\n",
      "9.0      3064\n",
      "10.0     2712\n",
      "8.0      2278\n",
      "13.0     1990\n",
      "11.0     1513\n",
      "6.0      1065\n",
      "5.0      1009\n",
      "12.0      624\n",
      "14.0      545\n",
      "15.0      234\n",
      "16.0      110\n",
      "Name: 취업_중요요소_2순위, dtype: int64\n",
      "\n",
      "1.0    29544\n",
      "0.0    14752\n",
      "2.0    10147\n",
      "Name: 첫직장여부, dtype: int64\n",
      "\n"
     ]
    }
   ],
   "source": [
    "for col in cols:\n",
    "    print(df[col].value_counts())\n",
    "    print()"
   ]
  },
  {
   "cell_type": "markdown",
   "metadata": {},
   "source": [
    "- 정규직여부(자가응답) 1:정규직, 2:비정규직\n",
    "- 계약여부 1:계약직(정하였다) 2:비계약직(정하지 않았다)"
   ]
  },
  {
   "cell_type": "code",
   "execution_count": 47,
   "metadata": {},
   "outputs": [
    {
     "data": {
      "text/plain": [
       "정규직여부  계약여부\n",
       "0.0    0.0     16551\n",
       "       1.0        35\n",
       "       2.0        22\n",
       "1.0    1.0      1164\n",
       "       2.0     25773\n",
       "2.0    1.0      6951\n",
       "       2.0      3947\n",
       "Name: 계약여부, dtype: int64"
      ]
     },
     "execution_count": 47,
     "metadata": {},
     "output_type": "execute_result"
    }
   ],
   "source": [
    "df.groupby(['정규직여부','계약여부'])['계약여부'].count()"
   ]
  },
  {
   "cell_type": "code",
   "execution_count": 48,
   "metadata": {},
   "outputs": [],
   "source": [
    "# 정규직 여부에 응답하지 않았는데 계약여부 1이라고 응답한 경우 -> 비정규직(정규직여부:2)\n",
    "# 정규직 여부에 응답하지 않았는데 계약여부 2라고 응답한 경우 -> 정규직(정규직여부:1)\n",
    "\n",
    "# if \n",
    "# if (df['계약여부'] == 2) & (df['정규직여부'] == 0)\n",
    "# if\n",
    "# if (df['계약여부'] == 2)\n",
    "\n",
    "df.loc[(df['계약여부'] == 1) & (df['정규직여부'] == 0), '정규직여부'] = 2\n",
    "df.loc[(df['계약여부'] == 2) & (df['정규직여부'] == 0), '정규직여부'] = 1\n",
    "df.loc[df['계약여부'] == 1, '정규직여부'] = 2\n",
    "df.loc[df['계약여부'] == 2, '정규직여부'] = 1\n",
    "\n",
    "df2016.loc[(df2016['계약여부'] == 1) & (df2016['정규직여부'] == 0), '정규직여부'] = 2\n",
    "df2016.loc[(df2016['계약여부'] == 2) & (df2016['정규직여부'] == 0), '정규직여부'] = 1\n",
    "df2016.loc[df2016['계약여부'] == 1, '정규직여부'] = 2\n",
    "df2016.loc[df2016['계약여부'] == 2, '정규직여부'] = 1\n",
    "\n",
    "df2017.loc[(df2017['계약여부'] == 1) & (df2017['정규직여부'] == 0), '정규직여부'] = 2\n",
    "df2017.loc[(df2017['계약여부'] == 2) & (df2017['정규직여부'] == 0), '정규직여부'] = 1\n",
    "df2017.loc[df2017['계약여부'] == 1, '정규직여부'] = 2\n",
    "df2017.loc[df2017['계약여부'] == 2, '정규직여부'] = 1\n",
    "\n",
    "df2018.loc[(df2018['계약여부'] == 1) & (df2018['정규직여부'] == 0), '정규직여부'] = 2\n",
    "df2018.loc[(df2018['계약여부'] == 2) & (df2018['정규직여부'] == 0), '정규직여부'] = 1\n",
    "df2018.loc[df2018['계약여부'] == 1, '정규직여부'] = 2\n",
    "df2018.loc[df2018['계약여부'] == 2, '정규직여부'] = 1"
   ]
  },
  {
   "cell_type": "code",
   "execution_count": 49,
   "metadata": {},
   "outputs": [],
   "source": [
    "df.drop(columns='계약여부', inplace=True)"
   ]
  },
  {
   "cell_type": "code",
   "execution_count": 50,
   "metadata": {},
   "outputs": [],
   "source": [
    "df2016.drop(columns='계약여부', inplace=True)\n",
    "df2017.drop(columns='계약여부', inplace=True)\n",
    "df2018.drop(columns='계약여부', inplace=True)"
   ]
  },
  {
   "cell_type": "code",
   "execution_count": 51,
   "metadata": {},
   "outputs": [
    {
     "data": {
      "text/plain": [
       "Index(['산업분류', '직업분류', '직원수', '사업체위치(시도)', '종사상 지위', '계약여부', '정규직여부',\n",
       "       '인턴경험여부(현직장)', '근로소득(현재_월_만원)', '근로소득(초임_월_만원)', '구직기간(주)', '구직경로',\n",
       "       '구직방법', '신입여부', '취업_중요요소_1순위', '취업_중요요소_2순위', '첫직장여부'],\n",
       "      dtype='object')"
      ]
     },
     "execution_count": 51,
     "metadata": {},
     "output_type": "execute_result"
    }
   ],
   "source": [
    "cols"
   ]
  },
  {
   "cell_type": "markdown",
   "metadata": {},
   "source": [
    "* 신입여부와 첫직장여부 하나만 사용해도 괜찮을듯?"
   ]
  },
  {
   "cell_type": "code",
   "execution_count": 52,
   "metadata": {},
   "outputs": [
    {
     "data": {
      "text/plain": [
       "신입여부  첫직장여부\n",
       "0.0   0.0      14752\n",
       "      1.0          4\n",
       "1.0   1.0      21006\n",
       "      2.0       5484\n",
       "2.0   1.0        679\n",
       "      2.0       1292\n",
       "3.0   1.0       5407\n",
       "      2.0       2343\n",
       "4.0   1.0       2247\n",
       "      2.0        956\n",
       "5.0   1.0        201\n",
       "      2.0         72\n",
       "Name: 첫직장여부, dtype: int64"
      ]
     },
     "execution_count": 52,
     "metadata": {},
     "output_type": "execute_result"
    }
   ],
   "source": [
    "df.groupby(['신입여부','첫직장여부'])['첫직장여부'].count()"
   ]
  },
  {
   "cell_type": "code",
   "execution_count": 53,
   "metadata": {},
   "outputs": [
    {
     "data": {
      "text/plain": [
       "첫직장여부  신입여부\n",
       "0.0    0.0     14752\n",
       "1.0    0.0         4\n",
       "       1.0     21006\n",
       "       2.0       679\n",
       "       3.0      5407\n",
       "       4.0      2247\n",
       "       5.0       201\n",
       "2.0    1.0      5484\n",
       "       2.0      1292\n",
       "       3.0      2343\n",
       "       4.0       956\n",
       "       5.0        72\n",
       "Name: 첫직장여부, dtype: int64"
      ]
     },
     "execution_count": 53,
     "metadata": {},
     "output_type": "execute_result"
    }
   ],
   "source": [
    "df.groupby(['첫직장여부','신입여부'])['첫직장여부'].count()"
   ]
  },
  {
   "cell_type": "code",
   "execution_count": 54,
   "metadata": {},
   "outputs": [],
   "source": [
    "df.loc[(df['신입여부'] == 0) & (df['첫직장여부'] == 1), '첫직장여부'] = 0\n"
   ]
  },
  {
   "cell_type": "code",
   "execution_count": 55,
   "metadata": {},
   "outputs": [],
   "source": [
    "df.drop(columns='첫직장여부', inplace=True)\n",
    "df2016.drop(columns='첫직장여부', inplace=True)\n",
    "df2017.drop(columns='첫직장여부', inplace=True)\n",
    "df2018.drop(columns='첫직장여부', inplace=True)"
   ]
  },
  {
   "cell_type": "markdown",
   "metadata": {},
   "source": [
    "---"
   ]
  },
  {
   "cell_type": "code",
   "execution_count": 56,
   "metadata": {},
   "outputs": [],
   "source": [
    "df.to_csv('./완료/GP_AQ.csv')\n",
    "df2016.to_csv('./완료/GP_AQ_2016.csv')\n",
    "df2017.to_csv('./완료/GP_AQ_2017.csv')\n",
    "df2018.to_csv('./완료/GP_AQ_2018.csv')"
   ]
  },
  {
   "cell_type": "code",
   "execution_count": 57,
   "metadata": {},
   "outputs": [
    {
     "data": {
      "text/plain": [
       "(18199, 32)"
      ]
     },
     "execution_count": 57,
     "metadata": {},
     "output_type": "execute_result"
    }
   ],
   "source": [
    "df2016.shape"
   ]
  },
  {
   "cell_type": "code",
   "execution_count": 58,
   "metadata": {},
   "outputs": [
    {
     "data": {
      "text/plain": [
       "(18081, 32)"
      ]
     },
     "execution_count": 58,
     "metadata": {},
     "output_type": "execute_result"
    }
   ],
   "source": [
    "df2017.shape"
   ]
  },
  {
   "cell_type": "code",
   "execution_count": 59,
   "metadata": {},
   "outputs": [
    {
     "data": {
      "text/plain": [
       "(18163, 32)"
      ]
     },
     "execution_count": 59,
     "metadata": {},
     "output_type": "execute_result"
    }
   ],
   "source": [
    "df2018.shape"
   ]
  },
  {
   "cell_type": "code",
   "execution_count": 60,
   "metadata": {},
   "outputs": [
    {
     "data": {
      "text/plain": [
       "0         0.0\n",
       "1        12.0\n",
       "2         0.0\n",
       "3         0.0\n",
       "4         0.0\n",
       "         ... \n",
       "18158     0.0\n",
       "18159    16.0\n",
       "18160     7.0\n",
       "18161     0.0\n",
       "18162    16.0\n",
       "Name: 산업분류, Length: 54443, dtype: float64"
      ]
     },
     "execution_count": 60,
     "metadata": {},
     "output_type": "execute_result"
    }
   ],
   "source": [
    "df['산업분류']"
   ]
  },
  {
   "cell_type": "code",
   "execution_count": null,
   "metadata": {},
   "outputs": [],
   "source": []
  }
 ],
 "metadata": {
  "interpreter": {
   "hash": "ecab3b44ec85b3fc152ce43053029da2d7fea401295eddadd715c90b258d02c3"
  },
  "kernelspec": {
   "display_name": "Python 3.9.0 ('multi_crawling')",
   "language": "python",
   "name": "python3"
  },
  "language_info": {
   "codemirror_mode": {
    "name": "ipython",
    "version": 3
   },
   "file_extension": ".py",
   "mimetype": "text/x-python",
   "name": "python",
   "nbconvert_exporter": "python",
   "pygments_lexer": "ipython3",
   "version": "3.9.9"
  },
  "orig_nbformat": 4
 },
 "nbformat": 4,
 "nbformat_minor": 2
}
