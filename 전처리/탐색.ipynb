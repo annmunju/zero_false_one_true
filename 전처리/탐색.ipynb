{
 "cells": [
  {
   "cell_type": "code",
   "execution_count": 2,
   "metadata": {},
   "outputs": [],
   "source": [
    "import pandas as pd\n",
    "import numpy as np\n",
    "from matplotlib import rc\n",
    "from matplotlib import pyplot as plt\n",
    "import seaborn as sns\n",
    "# pd.set_option('display.max_columns', None)\n",
    "# pd.set_option('display.max_rows', None)\n",
    "\n",
    "rc('font', family='AppleGothic')\n",
    "\n",
    "plt.rcParams['axes.unicode_minus'] = False"
   ]
  },
  {
   "cell_type": "code",
   "execution_count": 3,
   "metadata": {},
   "outputs": [],
   "source": [
    "basic_df = pd.read_csv('GP_basic_3개년.csv',index_col=0)"
   ]
  },
  {
   "cell_type": "code",
   "execution_count": 4,
   "metadata": {},
   "outputs": [],
   "source": [
    "df = pd.read_csv('GP_취업관련_3개년.csv',index_col=0)"
   ]
  },
  {
   "cell_type": "code",
   "execution_count": 5,
   "metadata": {},
   "outputs": [],
   "source": [
    "explore_df = pd.concat((basic_df.iloc[:,:-1], df), axis=1)"
   ]
  },
  {
   "cell_type": "code",
   "execution_count": 6,
   "metadata": {},
   "outputs": [],
   "source": [
    "employ_df = explore_df[explore_df['취업여부']==1]"
   ]
  },
  {
   "cell_type": "code",
   "execution_count": 7,
   "metadata": {},
   "outputs": [
    {
     "data": {
      "text/plain": [
       "Index(['본분교', '국공사립', '주야간', '전공계열', '전공_소분류_코드', '전공_세분류_코드', '학교유형',\n",
       "       '학교소재지역', '성별', '연령', '취업여부', '산업분류', '직업분류', '직원수', '사업체위치(시도)',\n",
       "       '종사상 지위', '정규직여부', '인턴경험여부(현직장)', '근로소득(현재_월_만원)', '근로소득(초임_월_만원)',\n",
       "       '구직기간(주)', '구직경로', '구직방법', '신입여부', '취업_중요요소_1순위', '취업_중요요소_2순위',\n",
       "       '조사년도'],\n",
       "      dtype='object')"
      ]
     },
     "execution_count": 7,
     "metadata": {},
     "output_type": "execute_result"
    }
   ],
   "source": [
    "employ_df.columns"
   ]
  },
  {
   "cell_type": "markdown",
   "metadata": {},
   "source": [
    "---\n"
   ]
  },
  {
   "cell_type": "markdown",
   "metadata": {},
   "source": [
    "## 전체 취업자 직장 분류"
   ]
  },
  {
   "cell_type": "code",
   "execution_count": 8,
   "metadata": {},
   "outputs": [
    {
     "data": {
      "text/plain": [
       "0.0      525\n",
       "1.0       48\n",
       "2.0     9753\n",
       "3.0      951\n",
       "11.0      68\n",
       "12.0     694\n",
       "13.0    2194\n",
       "14.0    1364\n",
       "15.0    3260\n",
       "21.0    2897\n",
       "22.0     143\n",
       "23.0    1178\n",
       "24.0     206\n",
       "25.0     713\n",
       "30.0    2925\n",
       "41.0    2658\n",
       "42.0     360\n",
       "51.0     170\n",
       "52.0     317\n",
       "53.0    1113\n",
       "54.0     154\n",
       "55.0      67\n",
       "56.0     106\n",
       "61.0    2322\n",
       "62.0     372\n",
       "70.0     182\n",
       "81.0     941\n",
       "82.0     106\n",
       "83.0     733\n",
       "84.0      84\n",
       "85.0     247\n",
       "86.0      31\n",
       "87.0     127\n",
       "88.0     113\n",
       "89.0      46\n",
       "90.0     245\n",
       "Name: 직업분류, dtype: int64"
      ]
     },
     "execution_count": 8,
     "metadata": {},
     "output_type": "execute_result"
    }
   ],
   "source": [
    "employ_df['직업분류'].value_counts().sort_index()"
   ]
  },
  {
   "cell_type": "code",
   "execution_count": 9,
   "metadata": {},
   "outputs": [],
   "source": [
    "# 한국표준직업분류\n",
    "job_category = employ_df['직업분류'].value_counts().sort_index()"
   ]
  },
  {
   "cell_type": "code",
   "execution_count": 10,
   "metadata": {},
   "outputs": [],
   "source": [
    "job_category.index = ['모름/무응답','관리직(임원·부서장)','경영·행정·사무직','금융·보험직','인문·사회과학 연구직','자연·생명과학 연구직','정보통신 연구개발직 및 공학기술직','건설·채굴 연구개발직 및 공학기술직','제조 연구개발직 및 공학기술직','교육직','법률직','사회복지·종교직','경찰·소방·교도직','군인','보건·의료직','예술·디자인·방송직','스포츠·레크리에이션직','미용·예식 서비스직','여행·숙박·오락 서비스직','음식 서비스직','경호·경비직','돌봄 서비스직(간병·육아)','청소 및 기타 개인서비스직','영업·판매직','운전·운송직','건설·채굴직','기계 설치·정비·생산직','금속·재료 설치·정비·생산직(판금·단조·주조·용접·도장 등)','전기·전자 설치·정비·생산직','정보통신 설치·정비직','화학·환경 설치·정비·생산직','섬유·의복 생산직','식품 가공·생산직','인쇄·목재·공예 및 기타 설치·정비·생산직','제조 단순직','농림어업직']"
   ]
  },
  {
   "cell_type": "code",
   "execution_count": 11,
   "metadata": {},
   "outputs": [
    {
     "data": {
      "text/plain": [
       "섬유·의복 생산직                              31\n",
       "제조 단순직                                 46\n",
       "관리직(임원·부서장)                            48\n",
       "돌봄 서비스직(간병·육아)                         67\n",
       "인문·사회과학 연구직                            68\n",
       "정보통신 설치·정비직                            84\n",
       "금속·재료 설치·정비·생산직(판금·단조·주조·용접·도장 등)     106\n",
       "청소 및 기타 개인서비스직                        106\n",
       "인쇄·목재·공예 및 기타 설치·정비·생산직               113\n",
       "식품 가공·생산직                             127\n",
       "법률직                                   143\n",
       "경호·경비직                                154\n",
       "미용·예식 서비스직                            170\n",
       "건설·채굴직                                182\n",
       "경찰·소방·교도직                             206\n",
       "농림어업직                                 245\n",
       "화학·환경 설치·정비·생산직                       247\n",
       "여행·숙박·오락 서비스직                         317\n",
       "스포츠·레크리에이션직                           360\n",
       "운전·운송직                                372\n",
       "모름/무응답                                525\n",
       "자연·생명과학 연구직                           694\n",
       "군인                                    713\n",
       "전기·전자 설치·정비·생산직                       733\n",
       "기계 설치·정비·생산직                          941\n",
       "금융·보험직                                951\n",
       "음식 서비스직                              1113\n",
       "사회복지·종교직                             1178\n",
       "건설·채굴 연구개발직 및 공학기술직                  1364\n",
       "정보통신 연구개발직 및 공학기술직                   2194\n",
       "영업·판매직                               2322\n",
       "예술·디자인·방송직                           2658\n",
       "교육직                                  2897\n",
       "보건·의료직                               2925\n",
       "제조 연구개발직 및 공학기술직                     3260\n",
       "경영·행정·사무직                            9753\n",
       "Name: 직업분류, dtype: int64"
      ]
     },
     "execution_count": 11,
     "metadata": {},
     "output_type": "execute_result"
    }
   ],
   "source": [
    "job = job_category.sort_values()\n",
    "job"
   ]
  },
  {
   "cell_type": "code",
   "execution_count": 12,
   "metadata": {},
   "outputs": [
    {
     "data": {
      "image/png": "[encoded data removed]",
      "text/plain": [
       "<Figure size 1080x720 with 1 Axes>"
      ]
     },
     "metadata": {
      "needs_background": "light"
     },
     "output_type": "display_data"
    }
   ],
   "source": [
    "import matplotlib.pyplot as plt\n",
    "\n",
    "plt.figure(figsize=(15,10))\n",
    "plt.barh(job.index, job)\n",
    "\n",
    "for i in range(1,8):\n",
    "    plt.text(job[-i],job.index[-i], job[-i], verticalalignment='baseline', horizontalalignment='left')\n",
    "\n",
    "plt.show()"
   ]
  },
  {
   "cell_type": "markdown",
   "metadata": {},
   "source": [
    "---\n",
    "\n",
    "## 직장 분류에 따른 근로소득"
   ]
  },
  {
   "cell_type": "code",
   "execution_count": 13,
   "metadata": {},
   "outputs": [],
   "source": [
    "# 직업분류에 모름/무응답(인데 급여는 작성해놓은 경우)은 제외\n",
    "employ_df = employ_df[(employ_df['직업분류'] != 0) | (employ_df['근로소득(현재_월_만원)'] == 0)]"
   ]
  },
  {
   "cell_type": "code",
   "execution_count": 14,
   "metadata": {},
   "outputs": [
    {
     "name": "stderr",
     "output_type": "stream",
     "text": [
      "/opt/homebrew/Caskroom/miniforge/base/envs/mulcam_ds/lib/python3.9/site-packages/seaborn/_decorators.py:36: FutureWarning: Pass the following variable as a keyword arg: x. From version 0.12, the only valid positional argument will be `data`, and passing other arguments without an explicit keyword will result in an error or misinterpretation.\n",
      "  warnings.warn(\n"
     ]
    },
    {
     "data": {
      "text/plain": [
       "<AxesSubplot:xlabel='근로소득(현재_월_만원)'>"
      ]
     },
     "execution_count": 14,
     "metadata": {},
     "output_type": "execute_result"
    },
    {
     "data": {
      "image/png": "[encoded data removed]",
      "text/plain": [
       "<Figure size 432x288 with 1 Axes>"
      ]
     },
     "metadata": {
      "needs_background": "light"
     },
     "output_type": "display_data"
    }
   ],
   "source": [
    "sns.boxplot(employ_df['근로소득(현재_월_만원)']) "
   ]
  },
  {
   "cell_type": "code",
   "execution_count": 15,
   "metadata": {},
   "outputs": [],
   "source": [
    "iqr = employ_df['근로소득(현재_월_만원)'].quantile(0.75) - employ_df['근로소득(현재_월_만원)'].quantile(0.25)"
   ]
  },
  {
   "cell_type": "code",
   "execution_count": 16,
   "metadata": {},
   "outputs": [],
   "source": [
    "max = employ_df['근로소득(현재_월_만원)'].quantile(0.75)+(1.5*iqr)\n",
    "min = employ_df['근로소득(현재_월_만원)'].quantile(0.25)-(1.5*iqr)"
   ]
  },
  {
   "cell_type": "code",
   "execution_count": 17,
   "metadata": {},
   "outputs": [
    {
     "data": {
      "text/plain": [
       "(1498, 27)"
      ]
     },
     "execution_count": 17,
     "metadata": {},
     "output_type": "execute_result"
    }
   ],
   "source": [
    "# 이상치 (과다)\n",
    "employ_df[employ_df['근로소득(현재_월_만원)'] > max].shape"
   ]
  },
  {
   "cell_type": "code",
   "execution_count": 18,
   "metadata": {},
   "outputs": [
    {
     "data": {
      "text/plain": [
       "(1078, 27)"
      ]
     },
     "execution_count": 18,
     "metadata": {},
     "output_type": "execute_result"
    }
   ],
   "source": [
    "# 이상치 (과소)\n",
    "employ_df[employ_df['근로소득(현재_월_만원)'] <= min].shape"
   ]
  },
  {
   "cell_type": "code",
   "execution_count": 19,
   "metadata": {},
   "outputs": [
    {
     "data": {
      "text/html": [
       "<div>\n",
       "<style scoped>\n",
       "    .dataframe tbody tr th:only-of-type {\n",
       "        vertical-align: middle;\n",
       "    }\n",
       "\n",
       "    .dataframe tbody tr th {\n",
       "        vertical-align: top;\n",
       "    }\n",
       "\n",
       "    .dataframe thead th {\n",
       "        text-align: right;\n",
       "    }\n",
       "</style>\n",
       "<table border=\"1\" class=\"dataframe\">\n",
       "  <thead>\n",
       "    <tr style=\"text-align: right;\">\n",
       "      <th></th>\n",
       "      <th>평균</th>\n",
       "      <th>중간값</th>\n",
       "      <th>최소</th>\n",
       "      <th>최대</th>\n",
       "    </tr>\n",
       "  </thead>\n",
       "  <tbody>\n",
       "    <tr>\n",
       "      <th>모름/무응답</th>\n",
       "      <td>0.000000</td>\n",
       "      <td>0.0</td>\n",
       "      <td>0.0</td>\n",
       "      <td>0.0</td>\n",
       "    </tr>\n",
       "    <tr>\n",
       "      <th>관리직(임원·부서장)</th>\n",
       "      <td>554.916667</td>\n",
       "      <td>445.0</td>\n",
       "      <td>180.0</td>\n",
       "      <td>2500.0</td>\n",
       "    </tr>\n",
       "    <tr>\n",
       "      <th>경영·행정·사무직</th>\n",
       "      <td>233.213780</td>\n",
       "      <td>215.0</td>\n",
       "      <td>0.0</td>\n",
       "      <td>3000.0</td>\n",
       "    </tr>\n",
       "    <tr>\n",
       "      <th>금융·보험직</th>\n",
       "      <td>314.791798</td>\n",
       "      <td>300.0</td>\n",
       "      <td>100.0</td>\n",
       "      <td>1200.0</td>\n",
       "    </tr>\n",
       "    <tr>\n",
       "      <th>인문·사회과학 연구직</th>\n",
       "      <td>216.647059</td>\n",
       "      <td>200.0</td>\n",
       "      <td>0.0</td>\n",
       "      <td>500.0</td>\n",
       "    </tr>\n",
       "    <tr>\n",
       "      <th>자연·생명과학 연구직</th>\n",
       "      <td>185.417867</td>\n",
       "      <td>180.0</td>\n",
       "      <td>10.0</td>\n",
       "      <td>500.0</td>\n",
       "    </tr>\n",
       "    <tr>\n",
       "      <th>정보통신 연구개발직 및 공학기술직</th>\n",
       "      <td>249.568824</td>\n",
       "      <td>230.0</td>\n",
       "      <td>0.0</td>\n",
       "      <td>750.0</td>\n",
       "    </tr>\n",
       "    <tr>\n",
       "      <th>건설·채굴 연구개발직 및 공학기술직</th>\n",
       "      <td>245.684751</td>\n",
       "      <td>230.0</td>\n",
       "      <td>0.0</td>\n",
       "      <td>1500.0</td>\n",
       "    </tr>\n",
       "    <tr>\n",
       "      <th>제조 연구개발직 및 공학기술직</th>\n",
       "      <td>258.381595</td>\n",
       "      <td>250.0</td>\n",
       "      <td>0.0</td>\n",
       "      <td>833.0</td>\n",
       "    </tr>\n",
       "    <tr>\n",
       "      <th>교육직</th>\n",
       "      <td>198.173973</td>\n",
       "      <td>200.0</td>\n",
       "      <td>0.0</td>\n",
       "      <td>1500.0</td>\n",
       "    </tr>\n",
       "    <tr>\n",
       "      <th>법률직</th>\n",
       "      <td>287.000000</td>\n",
       "      <td>233.0</td>\n",
       "      <td>0.0</td>\n",
       "      <td>1500.0</td>\n",
       "    </tr>\n",
       "    <tr>\n",
       "      <th>사회복지·종교직</th>\n",
       "      <td>183.316638</td>\n",
       "      <td>183.0</td>\n",
       "      <td>0.0</td>\n",
       "      <td>500.0</td>\n",
       "    </tr>\n",
       "    <tr>\n",
       "      <th>경찰·소방·교도직</th>\n",
       "      <td>277.072816</td>\n",
       "      <td>270.0</td>\n",
       "      <td>100.0</td>\n",
       "      <td>640.0</td>\n",
       "    </tr>\n",
       "    <tr>\n",
       "      <th>군인</th>\n",
       "      <td>219.085554</td>\n",
       "      <td>200.0</td>\n",
       "      <td>120.0</td>\n",
       "      <td>680.0</td>\n",
       "    </tr>\n",
       "    <tr>\n",
       "      <th>보건·의료직</th>\n",
       "      <td>247.473846</td>\n",
       "      <td>220.0</td>\n",
       "      <td>0.0</td>\n",
       "      <td>2000.0</td>\n",
       "    </tr>\n",
       "    <tr>\n",
       "      <th>예술·디자인·방송직</th>\n",
       "      <td>196.917231</td>\n",
       "      <td>190.0</td>\n",
       "      <td>0.0</td>\n",
       "      <td>3000.0</td>\n",
       "    </tr>\n",
       "    <tr>\n",
       "      <th>스포츠·레크리에이션직</th>\n",
       "      <td>210.711111</td>\n",
       "      <td>200.0</td>\n",
       "      <td>0.0</td>\n",
       "      <td>1000.0</td>\n",
       "    </tr>\n",
       "    <tr>\n",
       "      <th>미용·예식 서비스직</th>\n",
       "      <td>173.752941</td>\n",
       "      <td>160.0</td>\n",
       "      <td>0.0</td>\n",
       "      <td>1300.0</td>\n",
       "    </tr>\n",
       "    <tr>\n",
       "      <th>여행·숙박·오락 서비스직</th>\n",
       "      <td>192.230284</td>\n",
       "      <td>186.0</td>\n",
       "      <td>0.0</td>\n",
       "      <td>800.0</td>\n",
       "    </tr>\n",
       "    <tr>\n",
       "      <th>음식 서비스직</th>\n",
       "      <td>157.404313</td>\n",
       "      <td>150.0</td>\n",
       "      <td>0.0</td>\n",
       "      <td>1667.0</td>\n",
       "    </tr>\n",
       "    <tr>\n",
       "      <th>경호·경비직</th>\n",
       "      <td>216.993506</td>\n",
       "      <td>215.5</td>\n",
       "      <td>0.0</td>\n",
       "      <td>450.0</td>\n",
       "    </tr>\n",
       "    <tr>\n",
       "      <th>돌봄 서비스직(간병·육아)</th>\n",
       "      <td>118.776119</td>\n",
       "      <td>110.0</td>\n",
       "      <td>10.0</td>\n",
       "      <td>280.0</td>\n",
       "    </tr>\n",
       "    <tr>\n",
       "      <th>청소 및 기타 개인서비스직</th>\n",
       "      <td>179.886792</td>\n",
       "      <td>180.0</td>\n",
       "      <td>0.0</td>\n",
       "      <td>400.0</td>\n",
       "    </tr>\n",
       "    <tr>\n",
       "      <th>영업·판매직</th>\n",
       "      <td>227.339363</td>\n",
       "      <td>210.0</td>\n",
       "      <td>0.0</td>\n",
       "      <td>2000.0</td>\n",
       "    </tr>\n",
       "    <tr>\n",
       "      <th>운전·운송직</th>\n",
       "      <td>246.674731</td>\n",
       "      <td>230.0</td>\n",
       "      <td>0.0</td>\n",
       "      <td>900.0</td>\n",
       "    </tr>\n",
       "    <tr>\n",
       "      <th>건설·채굴직</th>\n",
       "      <td>249.851648</td>\n",
       "      <td>235.0</td>\n",
       "      <td>0.0</td>\n",
       "      <td>1000.0</td>\n",
       "    </tr>\n",
       "    <tr>\n",
       "      <th>기계 설치·정비·생산직</th>\n",
       "      <td>274.606801</td>\n",
       "      <td>250.0</td>\n",
       "      <td>25.0</td>\n",
       "      <td>2000.0</td>\n",
       "    </tr>\n",
       "    <tr>\n",
       "      <th>금속·재료 설치·정비·생산직(판금·단조·주조·용접·도장 등)</th>\n",
       "      <td>275.160377</td>\n",
       "      <td>250.0</td>\n",
       "      <td>150.0</td>\n",
       "      <td>600.0</td>\n",
       "    </tr>\n",
       "    <tr>\n",
       "      <th>전기·전자 설치·정비·생산직</th>\n",
       "      <td>261.193724</td>\n",
       "      <td>250.0</td>\n",
       "      <td>70.0</td>\n",
       "      <td>560.0</td>\n",
       "    </tr>\n",
       "    <tr>\n",
       "      <th>정보통신 설치·정비직</th>\n",
       "      <td>232.500000</td>\n",
       "      <td>210.0</td>\n",
       "      <td>150.0</td>\n",
       "      <td>490.0</td>\n",
       "    </tr>\n",
       "    <tr>\n",
       "      <th>화학·환경 설치·정비·생산직</th>\n",
       "      <td>269.202429</td>\n",
       "      <td>250.0</td>\n",
       "      <td>0.0</td>\n",
       "      <td>600.0</td>\n",
       "    </tr>\n",
       "    <tr>\n",
       "      <th>섬유·의복 생산직</th>\n",
       "      <td>191.741935</td>\n",
       "      <td>180.0</td>\n",
       "      <td>50.0</td>\n",
       "      <td>350.0</td>\n",
       "    </tr>\n",
       "    <tr>\n",
       "      <th>식품 가공·생산직</th>\n",
       "      <td>220.929134</td>\n",
       "      <td>200.0</td>\n",
       "      <td>50.0</td>\n",
       "      <td>1000.0</td>\n",
       "    </tr>\n",
       "    <tr>\n",
       "      <th>인쇄·목재·공예 및 기타 설치·정비·생산직</th>\n",
       "      <td>214.150442</td>\n",
       "      <td>180.0</td>\n",
       "      <td>0.0</td>\n",
       "      <td>2000.0</td>\n",
       "    </tr>\n",
       "    <tr>\n",
       "      <th>제조 단순직</th>\n",
       "      <td>172.130435</td>\n",
       "      <td>180.0</td>\n",
       "      <td>0.0</td>\n",
       "      <td>280.0</td>\n",
       "    </tr>\n",
       "    <tr>\n",
       "      <th>농림어업직</th>\n",
       "      <td>270.085714</td>\n",
       "      <td>200.0</td>\n",
       "      <td>0.0</td>\n",
       "      <td>2000.0</td>\n",
       "    </tr>\n",
       "  </tbody>\n",
       "</table>\n",
       "</div>"
      ],
      "text/plain": [
       "                                           평균    중간값     최소      최대\n",
       "모름/무응답                               0.000000    0.0    0.0     0.0\n",
       "관리직(임원·부서장)                        554.916667  445.0  180.0  2500.0\n",
       "경영·행정·사무직                          233.213780  215.0    0.0  3000.0\n",
       "금융·보험직                             314.791798  300.0  100.0  1200.0\n",
       "인문·사회과학 연구직                        216.647059  200.0    0.0   500.0\n",
       "자연·생명과학 연구직                        185.417867  180.0   10.0   500.0\n",
       "정보통신 연구개발직 및 공학기술직                 249.568824  230.0    0.0   750.0\n",
       "건설·채굴 연구개발직 및 공학기술직                245.684751  230.0    0.0  1500.0\n",
       "제조 연구개발직 및 공학기술직                   258.381595  250.0    0.0   833.0\n",
       "교육직                                198.173973  200.0    0.0  1500.0\n",
       "법률직                                287.000000  233.0    0.0  1500.0\n",
       "사회복지·종교직                           183.316638  183.0    0.0   500.0\n",
       "경찰·소방·교도직                          277.072816  270.0  100.0   640.0\n",
       "군인                                 219.085554  200.0  120.0   680.0\n",
       "보건·의료직                             247.473846  220.0    0.0  2000.0\n",
       "예술·디자인·방송직                         196.917231  190.0    0.0  3000.0\n",
       "스포츠·레크리에이션직                        210.711111  200.0    0.0  1000.0\n",
       "미용·예식 서비스직                         173.752941  160.0    0.0  1300.0\n",
       "여행·숙박·오락 서비스직                      192.230284  186.0    0.0   800.0\n",
       "음식 서비스직                            157.404313  150.0    0.0  1667.0\n",
       "경호·경비직                             216.993506  215.5    0.0   450.0\n",
       "돌봄 서비스직(간병·육아)                     118.776119  110.0   10.0   280.0\n",
       "청소 및 기타 개인서비스직                     179.886792  180.0    0.0   400.0\n",
       "영업·판매직                             227.339363  210.0    0.0  2000.0\n",
       "운전·운송직                             246.674731  230.0    0.0   900.0\n",
       "건설·채굴직                             249.851648  235.0    0.0  1000.0\n",
       "기계 설치·정비·생산직                       274.606801  250.0   25.0  2000.0\n",
       "금속·재료 설치·정비·생산직(판금·단조·주조·용접·도장 등)  275.160377  250.0  150.0   600.0\n",
       "전기·전자 설치·정비·생산직                    261.193724  250.0   70.0   560.0\n",
       "정보통신 설치·정비직                        232.500000  210.0  150.0   490.0\n",
       "화학·환경 설치·정비·생산직                    269.202429  250.0    0.0   600.0\n",
       "섬유·의복 생산직                          191.741935  180.0   50.0   350.0\n",
       "식품 가공·생산직                          220.929134  200.0   50.0  1000.0\n",
       "인쇄·목재·공예 및 기타 설치·정비·생산직            214.150442  180.0    0.0  2000.0\n",
       "제조 단순직                             172.130435  180.0    0.0   280.0\n",
       "농림어업직                              270.085714  200.0    0.0  2000.0"
      ]
     },
     "execution_count": 19,
     "metadata": {},
     "output_type": "execute_result"
    }
   ],
   "source": [
    "job_category_describe = employ_df.groupby('직업분류')['근로소득(현재_월_만원)'].agg([['평균', 'mean'], ['중간값', 'median'], ['최소', 'min'], ['최대', 'max']])\n",
    "job_category_describe.index = ['모름/무응답','관리직(임원·부서장)','경영·행정·사무직','금융·보험직','인문·사회과학 연구직','자연·생명과학 연구직','정보통신 연구개발직 및 공학기술직','건설·채굴 연구개발직 및 공학기술직','제조 연구개발직 및 공학기술직','교육직','법률직','사회복지·종교직','경찰·소방·교도직','군인','보건·의료직','예술·디자인·방송직','스포츠·레크리에이션직','미용·예식 서비스직','여행·숙박·오락 서비스직','음식 서비스직','경호·경비직','돌봄 서비스직(간병·육아)','청소 및 기타 개인서비스직','영업·판매직','운전·운송직','건설·채굴직','기계 설치·정비·생산직','금속·재료 설치·정비·생산직(판금·단조·주조·용접·도장 등)','전기·전자 설치·정비·생산직','정보통신 설치·정비직','화학·환경 설치·정비·생산직','섬유·의복 생산직','식품 가공·생산직','인쇄·목재·공예 및 기타 설치·정비·생산직','제조 단순직','농림어업직']\n",
    "job_category_describe"
   ]
  },
  {
   "cell_type": "code",
   "execution_count": 20,
   "metadata": {},
   "outputs": [
    {
     "data": {
      "text/html": [
       "<div>\n",
       "<style scoped>\n",
       "    .dataframe tbody tr th:only-of-type {\n",
       "        vertical-align: middle;\n",
       "    }\n",
       "\n",
       "    .dataframe tbody tr th {\n",
       "        vertical-align: top;\n",
       "    }\n",
       "\n",
       "    .dataframe thead th {\n",
       "        text-align: right;\n",
       "    }\n",
       "</style>\n",
       "<table border=\"1\" class=\"dataframe\">\n",
       "  <thead>\n",
       "    <tr style=\"text-align: right;\">\n",
       "      <th></th>\n",
       "      <th></th>\n",
       "      <th>평균</th>\n",
       "      <th>중간값</th>\n",
       "      <th>최소</th>\n",
       "      <th>최대</th>\n",
       "    </tr>\n",
       "    <tr>\n",
       "      <th>조사년도</th>\n",
       "      <th>직업분류</th>\n",
       "      <th></th>\n",
       "      <th></th>\n",
       "      <th></th>\n",
       "      <th></th>\n",
       "    </tr>\n",
       "  </thead>\n",
       "  <tbody>\n",
       "    <tr>\n",
       "      <th rowspan=\"5\" valign=\"top\">2016</th>\n",
       "      <th>0.0</th>\n",
       "      <td>0.000000</td>\n",
       "      <td>0.0</td>\n",
       "      <td>0.0</td>\n",
       "      <td>0.0</td>\n",
       "    </tr>\n",
       "    <tr>\n",
       "      <th>1.0</th>\n",
       "      <td>529.523810</td>\n",
       "      <td>500.0</td>\n",
       "      <td>200.0</td>\n",
       "      <td>1000.0</td>\n",
       "    </tr>\n",
       "    <tr>\n",
       "      <th>2.0</th>\n",
       "      <td>220.622480</td>\n",
       "      <td>200.0</td>\n",
       "      <td>0.0</td>\n",
       "      <td>1000.0</td>\n",
       "    </tr>\n",
       "    <tr>\n",
       "      <th>3.0</th>\n",
       "      <td>293.625786</td>\n",
       "      <td>270.0</td>\n",
       "      <td>100.0</td>\n",
       "      <td>750.0</td>\n",
       "    </tr>\n",
       "    <tr>\n",
       "      <th>11.0</th>\n",
       "      <td>194.857143</td>\n",
       "      <td>180.0</td>\n",
       "      <td>150.0</td>\n",
       "      <td>280.0</td>\n",
       "    </tr>\n",
       "    <tr>\n",
       "      <th>...</th>\n",
       "      <th>...</th>\n",
       "      <td>...</td>\n",
       "      <td>...</td>\n",
       "      <td>...</td>\n",
       "      <td>...</td>\n",
       "    </tr>\n",
       "    <tr>\n",
       "      <th rowspan=\"5\" valign=\"top\">2018</th>\n",
       "      <th>86.0</th>\n",
       "      <td>194.375000</td>\n",
       "      <td>200.0</td>\n",
       "      <td>70.0</td>\n",
       "      <td>300.0</td>\n",
       "    </tr>\n",
       "    <tr>\n",
       "      <th>87.0</th>\n",
       "      <td>221.129032</td>\n",
       "      <td>200.0</td>\n",
       "      <td>100.0</td>\n",
       "      <td>500.0</td>\n",
       "    </tr>\n",
       "    <tr>\n",
       "      <th>88.0</th>\n",
       "      <td>265.395349</td>\n",
       "      <td>200.0</td>\n",
       "      <td>50.0</td>\n",
       "      <td>2000.0</td>\n",
       "    </tr>\n",
       "    <tr>\n",
       "      <th>89.0</th>\n",
       "      <td>131.142857</td>\n",
       "      <td>149.0</td>\n",
       "      <td>0.0</td>\n",
       "      <td>280.0</td>\n",
       "    </tr>\n",
       "    <tr>\n",
       "      <th>90.0</th>\n",
       "      <td>312.722892</td>\n",
       "      <td>220.0</td>\n",
       "      <td>0.0</td>\n",
       "      <td>1000.0</td>\n",
       "    </tr>\n",
       "  </tbody>\n",
       "</table>\n",
       "<p>108 rows × 4 columns</p>\n",
       "</div>"
      ],
      "text/plain": [
       "                   평균    중간값     최소      최대\n",
       "조사년도 직업분류                                  \n",
       "2016 0.0     0.000000    0.0    0.0     0.0\n",
       "     1.0   529.523810  500.0  200.0  1000.0\n",
       "     2.0   220.622480  200.0    0.0  1000.0\n",
       "     3.0   293.625786  270.0  100.0   750.0\n",
       "     11.0  194.857143  180.0  150.0   280.0\n",
       "...               ...    ...    ...     ...\n",
       "2018 86.0  194.375000  200.0   70.0   300.0\n",
       "     87.0  221.129032  200.0  100.0   500.0\n",
       "     88.0  265.395349  200.0   50.0  2000.0\n",
       "     89.0  131.142857  149.0    0.0   280.0\n",
       "     90.0  312.722892  220.0    0.0  1000.0\n",
       "\n",
       "[108 rows x 4 columns]"
      ]
     },
     "execution_count": 20,
     "metadata": {},
     "output_type": "execute_result"
    }
   ],
   "source": [
    "employ_df.groupby(['조사년도','직업분류'])['근로소득(현재_월_만원)'].agg([['평균', 'mean'], ['중간값', 'median'], ['최소', 'min'], ['최대', 'max']])"
   ]
  },
  {
   "cell_type": "code",
   "execution_count": null,
   "metadata": {},
   "outputs": [],
   "source": []
  },
  {
   "cell_type": "code",
   "execution_count": null,
   "metadata": {},
   "outputs": [],
   "source": []
  },
  {
   "cell_type": "code",
   "execution_count": null,
   "metadata": {},
   "outputs": [],
   "source": []
  },
  {
   "cell_type": "code",
   "execution_count": null,
   "metadata": {},
   "outputs": [],
   "source": []
  }
 ],
 "metadata": {
  "interpreter": {
   "hash": "ecab3b44ec85b3fc152ce43053029da2d7fea401295eddadd715c90b258d02c3"
  },
  "kernelspec": {
   "display_name": "Python 3.9.0 ('multi_crawling')",
   "language": "python",
   "name": "python3"
  },
  "language_info": {
   "codemirror_mode": {
    "name": "ipython",
    "version": 3
   },
   "file_extension": ".py",
   "mimetype": "text/x-python",
   "name": "python",
   "nbconvert_exporter": "python",
   "pygments_lexer": "ipython3",
   "version": "3.9.9"
  },
  "orig_nbformat": 4
 },
 "nbformat": 4,
 "nbformat_minor": 2
}
